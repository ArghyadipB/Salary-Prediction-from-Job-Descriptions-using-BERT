{
  "metadata": {
    "kernelspec": {
      "display_name": "Python 3",
      "name": "python3"
    },
    "language_info": {
      "name": "python",
      "version": "3.10.14",
      "mimetype": "text/x-python",
      "codemirror_mode": {
        "name": "ipython",
        "version": 3
      },
      "pygments_lexer": "ipython3",
      "nbconvert_exporter": "python",
      "file_extension": ".py"
    },
    "kaggle": {
      "accelerator": "none",
      "dataSources": [
        {
          "sourceId": 9200871,
          "sourceType": "datasetVersion",
          "datasetId": 3680745
        }
      ],
      "dockerImageVersionId": 30786,
      "isInternetEnabled": true,
      "language": "python",
      "sourceType": "notebook",
      "isGpuEnabled": false
    },
    "colab": {
      "provenance": [],
      "gpuType": "T4"
    },
    "widgets": {
      "application/vnd.jupyter.widget-state+json": {
        "8fa4115a50d84b4290d2c7a4bb247a35": {
          "model_module": "@jupyter-widgets/controls",
          "model_name": "HBoxModel",
          "model_module_version": "1.5.0",
          "state": {
            "_dom_classes": [],
            "_model_module": "@jupyter-widgets/controls",
            "_model_module_version": "1.5.0",
            "_model_name": "HBoxModel",
            "_view_count": null,
            "_view_module": "@jupyter-widgets/controls",
            "_view_module_version": "1.5.0",
            "_view_name": "HBoxView",
            "box_style": "",
            "children": [
              "IPY_MODEL_2a331e544c4f4f10905231d0f4995c63",
              "IPY_MODEL_6968ff0a23a14e2081149776a064a4bf",
              "IPY_MODEL_c23268b3e42647ec9e004141757ef49b"
            ],
            "layout": "IPY_MODEL_5028f1c91e5f4eeaa47e68fc657e2c81"
          }
        },
        "2a331e544c4f4f10905231d0f4995c63": {
          "model_module": "@jupyter-widgets/controls",
          "model_name": "HTMLModel",
          "model_module_version": "1.5.0",
          "state": {
            "_dom_classes": [],
            "_model_module": "@jupyter-widgets/controls",
            "_model_module_version": "1.5.0",
            "_model_name": "HTMLModel",
            "_view_count": null,
            "_view_module": "@jupyter-widgets/controls",
            "_view_module_version": "1.5.0",
            "_view_name": "HTMLView",
            "description": "",
            "description_tooltip": null,
            "layout": "IPY_MODEL_e567554f4a414528a4aa22c0be3d1337",
            "placeholder": "​",
            "style": "IPY_MODEL_55b1d7d1efc24397bbe1288c99b6c92b",
            "value": "tokenizer_config.json: 100%"
          }
        },
        "6968ff0a23a14e2081149776a064a4bf": {
          "model_module": "@jupyter-widgets/controls",
          "model_name": "FloatProgressModel",
          "model_module_version": "1.5.0",
          "state": {
            "_dom_classes": [],
            "_model_module": "@jupyter-widgets/controls",
            "_model_module_version": "1.5.0",
            "_model_name": "FloatProgressModel",
            "_view_count": null,
            "_view_module": "@jupyter-widgets/controls",
            "_view_module_version": "1.5.0",
            "_view_name": "ProgressView",
            "bar_style": "success",
            "description": "",
            "description_tooltip": null,
            "layout": "IPY_MODEL_fbefda76018f43a88982bb3326c992cd",
            "max": 48,
            "min": 0,
            "orientation": "horizontal",
            "style": "IPY_MODEL_2a2bd1fdab814ffabbc24b097025672c",
            "value": 48
          }
        },
        "c23268b3e42647ec9e004141757ef49b": {
          "model_module": "@jupyter-widgets/controls",
          "model_name": "HTMLModel",
          "model_module_version": "1.5.0",
          "state": {
            "_dom_classes": [],
            "_model_module": "@jupyter-widgets/controls",
            "_model_module_version": "1.5.0",
            "_model_name": "HTMLModel",
            "_view_count": null,
            "_view_module": "@jupyter-widgets/controls",
            "_view_module_version": "1.5.0",
            "_view_name": "HTMLView",
            "description": "",
            "description_tooltip": null,
            "layout": "IPY_MODEL_2a7d23d48f0e484f957f1bac5d140e70",
            "placeholder": "​",
            "style": "IPY_MODEL_ff634d7bfe4d4ef285fc9e855f5b0751",
            "value": " 48.0/48.0 [00:00&lt;00:00, 2.78kB/s]"
          }
        },
        "5028f1c91e5f4eeaa47e68fc657e2c81": {
          "model_module": "@jupyter-widgets/base",
          "model_name": "LayoutModel",
          "model_module_version": "1.2.0",
          "state": {
            "_model_module": "@jupyter-widgets/base",
            "_model_module_version": "1.2.0",
            "_model_name": "LayoutModel",
            "_view_count": null,
            "_view_module": "@jupyter-widgets/base",
            "_view_module_version": "1.2.0",
            "_view_name": "LayoutView",
            "align_content": null,
            "align_items": null,
            "align_self": null,
            "border": null,
            "bottom": null,
            "display": null,
            "flex": null,
            "flex_flow": null,
            "grid_area": null,
            "grid_auto_columns": null,
            "grid_auto_flow": null,
            "grid_auto_rows": null,
            "grid_column": null,
            "grid_gap": null,
            "grid_row": null,
            "grid_template_areas": null,
            "grid_template_columns": null,
            "grid_template_rows": null,
            "height": null,
            "justify_content": null,
            "justify_items": null,
            "left": null,
            "margin": null,
            "max_height": null,
            "max_width": null,
            "min_height": null,
            "min_width": null,
            "object_fit": null,
            "object_position": null,
            "order": null,
            "overflow": null,
            "overflow_x": null,
            "overflow_y": null,
            "padding": null,
            "right": null,
            "top": null,
            "visibility": null,
            "width": null
          }
        },
        "e567554f4a414528a4aa22c0be3d1337": {
          "model_module": "@jupyter-widgets/base",
          "model_name": "LayoutModel",
          "model_module_version": "1.2.0",
          "state": {
            "_model_module": "@jupyter-widgets/base",
            "_model_module_version": "1.2.0",
            "_model_name": "LayoutModel",
            "_view_count": null,
            "_view_module": "@jupyter-widgets/base",
            "_view_module_version": "1.2.0",
            "_view_name": "LayoutView",
            "align_content": null,
            "align_items": null,
            "align_self": null,
            "border": null,
            "bottom": null,
            "display": null,
            "flex": null,
            "flex_flow": null,
            "grid_area": null,
            "grid_auto_columns": null,
            "grid_auto_flow": null,
            "grid_auto_rows": null,
            "grid_column": null,
            "grid_gap": null,
            "grid_row": null,
            "grid_template_areas": null,
            "grid_template_columns": null,
            "grid_template_rows": null,
            "height": null,
            "justify_content": null,
            "justify_items": null,
            "left": null,
            "margin": null,
            "max_height": null,
            "max_width": null,
            "min_height": null,
            "min_width": null,
            "object_fit": null,
            "object_position": null,
            "order": null,
            "overflow": null,
            "overflow_x": null,
            "overflow_y": null,
            "padding": null,
            "right": null,
            "top": null,
            "visibility": null,
            "width": null
          }
        },
        "55b1d7d1efc24397bbe1288c99b6c92b": {
          "model_module": "@jupyter-widgets/controls",
          "model_name": "DescriptionStyleModel",
          "model_module_version": "1.5.0",
          "state": {
            "_model_module": "@jupyter-widgets/controls",
            "_model_module_version": "1.5.0",
            "_model_name": "DescriptionStyleModel",
            "_view_count": null,
            "_view_module": "@jupyter-widgets/base",
            "_view_module_version": "1.2.0",
            "_view_name": "StyleView",
            "description_width": ""
          }
        },
        "fbefda76018f43a88982bb3326c992cd": {
          "model_module": "@jupyter-widgets/base",
          "model_name": "LayoutModel",
          "model_module_version": "1.2.0",
          "state": {
            "_model_module": "@jupyter-widgets/base",
            "_model_module_version": "1.2.0",
            "_model_name": "LayoutModel",
            "_view_count": null,
            "_view_module": "@jupyter-widgets/base",
            "_view_module_version": "1.2.0",
            "_view_name": "LayoutView",
            "align_content": null,
            "align_items": null,
            "align_self": null,
            "border": null,
            "bottom": null,
            "display": null,
            "flex": null,
            "flex_flow": null,
            "grid_area": null,
            "grid_auto_columns": null,
            "grid_auto_flow": null,
            "grid_auto_rows": null,
            "grid_column": null,
            "grid_gap": null,
            "grid_row": null,
            "grid_template_areas": null,
            "grid_template_columns": null,
            "grid_template_rows": null,
            "height": null,
            "justify_content": null,
            "justify_items": null,
            "left": null,
            "margin": null,
            "max_height": null,
            "max_width": null,
            "min_height": null,
            "min_width": null,
            "object_fit": null,
            "object_position": null,
            "order": null,
            "overflow": null,
            "overflow_x": null,
            "overflow_y": null,
            "padding": null,
            "right": null,
            "top": null,
            "visibility": null,
            "width": null
          }
        },
        "2a2bd1fdab814ffabbc24b097025672c": {
          "model_module": "@jupyter-widgets/controls",
          "model_name": "ProgressStyleModel",
          "model_module_version": "1.5.0",
          "state": {
            "_model_module": "@jupyter-widgets/controls",
            "_model_module_version": "1.5.0",
            "_model_name": "ProgressStyleModel",
            "_view_count": null,
            "_view_module": "@jupyter-widgets/base",
            "_view_module_version": "1.2.0",
            "_view_name": "StyleView",
            "bar_color": null,
            "description_width": ""
          }
        },
        "2a7d23d48f0e484f957f1bac5d140e70": {
          "model_module": "@jupyter-widgets/base",
          "model_name": "LayoutModel",
          "model_module_version": "1.2.0",
          "state": {
            "_model_module": "@jupyter-widgets/base",
            "_model_module_version": "1.2.0",
            "_model_name": "LayoutModel",
            "_view_count": null,
            "_view_module": "@jupyter-widgets/base",
            "_view_module_version": "1.2.0",
            "_view_name": "LayoutView",
            "align_content": null,
            "align_items": null,
            "align_self": null,
            "border": null,
            "bottom": null,
            "display": null,
            "flex": null,
            "flex_flow": null,
            "grid_area": null,
            "grid_auto_columns": null,
            "grid_auto_flow": null,
            "grid_auto_rows": null,
            "grid_column": null,
            "grid_gap": null,
            "grid_row": null,
            "grid_template_areas": null,
            "grid_template_columns": null,
            "grid_template_rows": null,
            "height": null,
            "justify_content": null,
            "justify_items": null,
            "left": null,
            "margin": null,
            "max_height": null,
            "max_width": null,
            "min_height": null,
            "min_width": null,
            "object_fit": null,
            "object_position": null,
            "order": null,
            "overflow": null,
            "overflow_x": null,
            "overflow_y": null,
            "padding": null,
            "right": null,
            "top": null,
            "visibility": null,
            "width": null
          }
        },
        "ff634d7bfe4d4ef285fc9e855f5b0751": {
          "model_module": "@jupyter-widgets/controls",
          "model_name": "DescriptionStyleModel",
          "model_module_version": "1.5.0",
          "state": {
            "_model_module": "@jupyter-widgets/controls",
            "_model_module_version": "1.5.0",
            "_model_name": "DescriptionStyleModel",
            "_view_count": null,
            "_view_module": "@jupyter-widgets/base",
            "_view_module_version": "1.2.0",
            "_view_name": "StyleView",
            "description_width": ""
          }
        },
        "dcbe1c1b660847848331327d0c40a6b3": {
          "model_module": "@jupyter-widgets/controls",
          "model_name": "HBoxModel",
          "model_module_version": "1.5.0",
          "state": {
            "_dom_classes": [],
            "_model_module": "@jupyter-widgets/controls",
            "_model_module_version": "1.5.0",
            "_model_name": "HBoxModel",
            "_view_count": null,
            "_view_module": "@jupyter-widgets/controls",
            "_view_module_version": "1.5.0",
            "_view_name": "HBoxView",
            "box_style": "",
            "children": [
              "IPY_MODEL_bd024b647d324fa7a37b3135553391da",
              "IPY_MODEL_f5c376ce5a2842218961186734ee471d",
              "IPY_MODEL_623a25dae06547bb9fd652acd5403515"
            ],
            "layout": "IPY_MODEL_c752d7243cd44412b2a64d02b25c8186"
          }
        },
        "bd024b647d324fa7a37b3135553391da": {
          "model_module": "@jupyter-widgets/controls",
          "model_name": "HTMLModel",
          "model_module_version": "1.5.0",
          "state": {
            "_dom_classes": [],
            "_model_module": "@jupyter-widgets/controls",
            "_model_module_version": "1.5.0",
            "_model_name": "HTMLModel",
            "_view_count": null,
            "_view_module": "@jupyter-widgets/controls",
            "_view_module_version": "1.5.0",
            "_view_name": "HTMLView",
            "description": "",
            "description_tooltip": null,
            "layout": "IPY_MODEL_a1cd41987ff747bf8779851baeab074e",
            "placeholder": "​",
            "style": "IPY_MODEL_510f448a26fc43b7b65b68d4288526d5",
            "value": "vocab.txt: 100%"
          }
        },
        "f5c376ce5a2842218961186734ee471d": {
          "model_module": "@jupyter-widgets/controls",
          "model_name": "FloatProgressModel",
          "model_module_version": "1.5.0",
          "state": {
            "_dom_classes": [],
            "_model_module": "@jupyter-widgets/controls",
            "_model_module_version": "1.5.0",
            "_model_name": "FloatProgressModel",
            "_view_count": null,
            "_view_module": "@jupyter-widgets/controls",
            "_view_module_version": "1.5.0",
            "_view_name": "ProgressView",
            "bar_style": "success",
            "description": "",
            "description_tooltip": null,
            "layout": "IPY_MODEL_a6481b6e247041c1b2bdad5270f3efec",
            "max": 231508,
            "min": 0,
            "orientation": "horizontal",
            "style": "IPY_MODEL_f389ddfdcc5b43c0a41377e498bf84ba",
            "value": 231508
          }
        },
        "623a25dae06547bb9fd652acd5403515": {
          "model_module": "@jupyter-widgets/controls",
          "model_name": "HTMLModel",
          "model_module_version": "1.5.0",
          "state": {
            "_dom_classes": [],
            "_model_module": "@jupyter-widgets/controls",
            "_model_module_version": "1.5.0",
            "_model_name": "HTMLModel",
            "_view_count": null,
            "_view_module": "@jupyter-widgets/controls",
            "_view_module_version": "1.5.0",
            "_view_name": "HTMLView",
            "description": "",
            "description_tooltip": null,
            "layout": "IPY_MODEL_fbe4332ee68f4c818d1d406ef58839ff",
            "placeholder": "​",
            "style": "IPY_MODEL_f11af4dfbc794549a586740a8ac31dae",
            "value": " 232k/232k [00:00&lt;00:00, 5.65MB/s]"
          }
        },
        "c752d7243cd44412b2a64d02b25c8186": {
          "model_module": "@jupyter-widgets/base",
          "model_name": "LayoutModel",
          "model_module_version": "1.2.0",
          "state": {
            "_model_module": "@jupyter-widgets/base",
            "_model_module_version": "1.2.0",
            "_model_name": "LayoutModel",
            "_view_count": null,
            "_view_module": "@jupyter-widgets/base",
            "_view_module_version": "1.2.0",
            "_view_name": "LayoutView",
            "align_content": null,
            "align_items": null,
            "align_self": null,
            "border": null,
            "bottom": null,
            "display": null,
            "flex": null,
            "flex_flow": null,
            "grid_area": null,
            "grid_auto_columns": null,
            "grid_auto_flow": null,
            "grid_auto_rows": null,
            "grid_column": null,
            "grid_gap": null,
            "grid_row": null,
            "grid_template_areas": null,
            "grid_template_columns": null,
            "grid_template_rows": null,
            "height": null,
            "justify_content": null,
            "justify_items": null,
            "left": null,
            "margin": null,
            "max_height": null,
            "max_width": null,
            "min_height": null,
            "min_width": null,
            "object_fit": null,
            "object_position": null,
            "order": null,
            "overflow": null,
            "overflow_x": null,
            "overflow_y": null,
            "padding": null,
            "right": null,
            "top": null,
            "visibility": null,
            "width": null
          }
        },
        "a1cd41987ff747bf8779851baeab074e": {
          "model_module": "@jupyter-widgets/base",
          "model_name": "LayoutModel",
          "model_module_version": "1.2.0",
          "state": {
            "_model_module": "@jupyter-widgets/base",
            "_model_module_version": "1.2.0",
            "_model_name": "LayoutModel",
            "_view_count": null,
            "_view_module": "@jupyter-widgets/base",
            "_view_module_version": "1.2.0",
            "_view_name": "LayoutView",
            "align_content": null,
            "align_items": null,
            "align_self": null,
            "border": null,
            "bottom": null,
            "display": null,
            "flex": null,
            "flex_flow": null,
            "grid_area": null,
            "grid_auto_columns": null,
            "grid_auto_flow": null,
            "grid_auto_rows": null,
            "grid_column": null,
            "grid_gap": null,
            "grid_row": null,
            "grid_template_areas": null,
            "grid_template_columns": null,
            "grid_template_rows": null,
            "height": null,
            "justify_content": null,
            "justify_items": null,
            "left": null,
            "margin": null,
            "max_height": null,
            "max_width": null,
            "min_height": null,
            "min_width": null,
            "object_fit": null,
            "object_position": null,
            "order": null,
            "overflow": null,
            "overflow_x": null,
            "overflow_y": null,
            "padding": null,
            "right": null,
            "top": null,
            "visibility": null,
            "width": null
          }
        },
        "510f448a26fc43b7b65b68d4288526d5": {
          "model_module": "@jupyter-widgets/controls",
          "model_name": "DescriptionStyleModel",
          "model_module_version": "1.5.0",
          "state": {
            "_model_module": "@jupyter-widgets/controls",
            "_model_module_version": "1.5.0",
            "_model_name": "DescriptionStyleModel",
            "_view_count": null,
            "_view_module": "@jupyter-widgets/base",
            "_view_module_version": "1.2.0",
            "_view_name": "StyleView",
            "description_width": ""
          }
        },
        "a6481b6e247041c1b2bdad5270f3efec": {
          "model_module": "@jupyter-widgets/base",
          "model_name": "LayoutModel",
          "model_module_version": "1.2.0",
          "state": {
            "_model_module": "@jupyter-widgets/base",
            "_model_module_version": "1.2.0",
            "_model_name": "LayoutModel",
            "_view_count": null,
            "_view_module": "@jupyter-widgets/base",
            "_view_module_version": "1.2.0",
            "_view_name": "LayoutView",
            "align_content": null,
            "align_items": null,
            "align_self": null,
            "border": null,
            "bottom": null,
            "display": null,
            "flex": null,
            "flex_flow": null,
            "grid_area": null,
            "grid_auto_columns": null,
            "grid_auto_flow": null,
            "grid_auto_rows": null,
            "grid_column": null,
            "grid_gap": null,
            "grid_row": null,
            "grid_template_areas": null,
            "grid_template_columns": null,
            "grid_template_rows": null,
            "height": null,
            "justify_content": null,
            "justify_items": null,
            "left": null,
            "margin": null,
            "max_height": null,
            "max_width": null,
            "min_height": null,
            "min_width": null,
            "object_fit": null,
            "object_position": null,
            "order": null,
            "overflow": null,
            "overflow_x": null,
            "overflow_y": null,
            "padding": null,
            "right": null,
            "top": null,
            "visibility": null,
            "width": null
          }
        },
        "f389ddfdcc5b43c0a41377e498bf84ba": {
          "model_module": "@jupyter-widgets/controls",
          "model_name": "ProgressStyleModel",
          "model_module_version": "1.5.0",
          "state": {
            "_model_module": "@jupyter-widgets/controls",
            "_model_module_version": "1.5.0",
            "_model_name": "ProgressStyleModel",
            "_view_count": null,
            "_view_module": "@jupyter-widgets/base",
            "_view_module_version": "1.2.0",
            "_view_name": "StyleView",
            "bar_color": null,
            "description_width": ""
          }
        },
        "fbe4332ee68f4c818d1d406ef58839ff": {
          "model_module": "@jupyter-widgets/base",
          "model_name": "LayoutModel",
          "model_module_version": "1.2.0",
          "state": {
            "_model_module": "@jupyter-widgets/base",
            "_model_module_version": "1.2.0",
            "_model_name": "LayoutModel",
            "_view_count": null,
            "_view_module": "@jupyter-widgets/base",
            "_view_module_version": "1.2.0",
            "_view_name": "LayoutView",
            "align_content": null,
            "align_items": null,
            "align_self": null,
            "border": null,
            "bottom": null,
            "display": null,
            "flex": null,
            "flex_flow": null,
            "grid_area": null,
            "grid_auto_columns": null,
            "grid_auto_flow": null,
            "grid_auto_rows": null,
            "grid_column": null,
            "grid_gap": null,
            "grid_row": null,
            "grid_template_areas": null,
            "grid_template_columns": null,
            "grid_template_rows": null,
            "height": null,
            "justify_content": null,
            "justify_items": null,
            "left": null,
            "margin": null,
            "max_height": null,
            "max_width": null,
            "min_height": null,
            "min_width": null,
            "object_fit": null,
            "object_position": null,
            "order": null,
            "overflow": null,
            "overflow_x": null,
            "overflow_y": null,
            "padding": null,
            "right": null,
            "top": null,
            "visibility": null,
            "width": null
          }
        },
        "f11af4dfbc794549a586740a8ac31dae": {
          "model_module": "@jupyter-widgets/controls",
          "model_name": "DescriptionStyleModel",
          "model_module_version": "1.5.0",
          "state": {
            "_model_module": "@jupyter-widgets/controls",
            "_model_module_version": "1.5.0",
            "_model_name": "DescriptionStyleModel",
            "_view_count": null,
            "_view_module": "@jupyter-widgets/base",
            "_view_module_version": "1.2.0",
            "_view_name": "StyleView",
            "description_width": ""
          }
        },
        "1205d8dc39c54f83bd6a977c3980e7de": {
          "model_module": "@jupyter-widgets/controls",
          "model_name": "HBoxModel",
          "model_module_version": "1.5.0",
          "state": {
            "_dom_classes": [],
            "_model_module": "@jupyter-widgets/controls",
            "_model_module_version": "1.5.0",
            "_model_name": "HBoxModel",
            "_view_count": null,
            "_view_module": "@jupyter-widgets/controls",
            "_view_module_version": "1.5.0",
            "_view_name": "HBoxView",
            "box_style": "",
            "children": [
              "IPY_MODEL_bfc2a3f9108349d59be135b37b982f9a",
              "IPY_MODEL_dcbc3b8a01c745be89bbd67def2ee31e",
              "IPY_MODEL_50047267f80f4b738800c35bbdc2339f"
            ],
            "layout": "IPY_MODEL_0d6ffaa237374f00bd4e54e8a5e63cf3"
          }
        },
        "bfc2a3f9108349d59be135b37b982f9a": {
          "model_module": "@jupyter-widgets/controls",
          "model_name": "HTMLModel",
          "model_module_version": "1.5.0",
          "state": {
            "_dom_classes": [],
            "_model_module": "@jupyter-widgets/controls",
            "_model_module_version": "1.5.0",
            "_model_name": "HTMLModel",
            "_view_count": null,
            "_view_module": "@jupyter-widgets/controls",
            "_view_module_version": "1.5.0",
            "_view_name": "HTMLView",
            "description": "",
            "description_tooltip": null,
            "layout": "IPY_MODEL_aa5c508410ac4d8cb08e3235ef3e45af",
            "placeholder": "​",
            "style": "IPY_MODEL_70756ad7bbc14ad38831d1e02d6a0da6",
            "value": "tokenizer.json: 100%"
          }
        },
        "dcbc3b8a01c745be89bbd67def2ee31e": {
          "model_module": "@jupyter-widgets/controls",
          "model_name": "FloatProgressModel",
          "model_module_version": "1.5.0",
          "state": {
            "_dom_classes": [],
            "_model_module": "@jupyter-widgets/controls",
            "_model_module_version": "1.5.0",
            "_model_name": "FloatProgressModel",
            "_view_count": null,
            "_view_module": "@jupyter-widgets/controls",
            "_view_module_version": "1.5.0",
            "_view_name": "ProgressView",
            "bar_style": "success",
            "description": "",
            "description_tooltip": null,
            "layout": "IPY_MODEL_24663ef171394e4481ef7b4f3a9fa9fb",
            "max": 466062,
            "min": 0,
            "orientation": "horizontal",
            "style": "IPY_MODEL_ab737ca494b84e45a105bdc636c38b5a",
            "value": 466062
          }
        },
        "50047267f80f4b738800c35bbdc2339f": {
          "model_module": "@jupyter-widgets/controls",
          "model_name": "HTMLModel",
          "model_module_version": "1.5.0",
          "state": {
            "_dom_classes": [],
            "_model_module": "@jupyter-widgets/controls",
            "_model_module_version": "1.5.0",
            "_model_name": "HTMLModel",
            "_view_count": null,
            "_view_module": "@jupyter-widgets/controls",
            "_view_module_version": "1.5.0",
            "_view_name": "HTMLView",
            "description": "",
            "description_tooltip": null,
            "layout": "IPY_MODEL_cf6e9f7e80a14accb61aab6ae4411f71",
            "placeholder": "​",
            "style": "IPY_MODEL_d039e53eef844ee29f070f3f07afe7ea",
            "value": " 466k/466k [00:00&lt;00:00, 14.4MB/s]"
          }
        },
        "0d6ffaa237374f00bd4e54e8a5e63cf3": {
          "model_module": "@jupyter-widgets/base",
          "model_name": "LayoutModel",
          "model_module_version": "1.2.0",
          "state": {
            "_model_module": "@jupyter-widgets/base",
            "_model_module_version": "1.2.0",
            "_model_name": "LayoutModel",
            "_view_count": null,
            "_view_module": "@jupyter-widgets/base",
            "_view_module_version": "1.2.0",
            "_view_name": "LayoutView",
            "align_content": null,
            "align_items": null,
            "align_self": null,
            "border": null,
            "bottom": null,
            "display": null,
            "flex": null,
            "flex_flow": null,
            "grid_area": null,
            "grid_auto_columns": null,
            "grid_auto_flow": null,
            "grid_auto_rows": null,
            "grid_column": null,
            "grid_gap": null,
            "grid_row": null,
            "grid_template_areas": null,
            "grid_template_columns": null,
            "grid_template_rows": null,
            "height": null,
            "justify_content": null,
            "justify_items": null,
            "left": null,
            "margin": null,
            "max_height": null,
            "max_width": null,
            "min_height": null,
            "min_width": null,
            "object_fit": null,
            "object_position": null,
            "order": null,
            "overflow": null,
            "overflow_x": null,
            "overflow_y": null,
            "padding": null,
            "right": null,
            "top": null,
            "visibility": null,
            "width": null
          }
        },
        "aa5c508410ac4d8cb08e3235ef3e45af": {
          "model_module": "@jupyter-widgets/base",
          "model_name": "LayoutModel",
          "model_module_version": "1.2.0",
          "state": {
            "_model_module": "@jupyter-widgets/base",
            "_model_module_version": "1.2.0",
            "_model_name": "LayoutModel",
            "_view_count": null,
            "_view_module": "@jupyter-widgets/base",
            "_view_module_version": "1.2.0",
            "_view_name": "LayoutView",
            "align_content": null,
            "align_items": null,
            "align_self": null,
            "border": null,
            "bottom": null,
            "display": null,
            "flex": null,
            "flex_flow": null,
            "grid_area": null,
            "grid_auto_columns": null,
            "grid_auto_flow": null,
            "grid_auto_rows": null,
            "grid_column": null,
            "grid_gap": null,
            "grid_row": null,
            "grid_template_areas": null,
            "grid_template_columns": null,
            "grid_template_rows": null,
            "height": null,
            "justify_content": null,
            "justify_items": null,
            "left": null,
            "margin": null,
            "max_height": null,
            "max_width": null,
            "min_height": null,
            "min_width": null,
            "object_fit": null,
            "object_position": null,
            "order": null,
            "overflow": null,
            "overflow_x": null,
            "overflow_y": null,
            "padding": null,
            "right": null,
            "top": null,
            "visibility": null,
            "width": null
          }
        },
        "70756ad7bbc14ad38831d1e02d6a0da6": {
          "model_module": "@jupyter-widgets/controls",
          "model_name": "DescriptionStyleModel",
          "model_module_version": "1.5.0",
          "state": {
            "_model_module": "@jupyter-widgets/controls",
            "_model_module_version": "1.5.0",
            "_model_name": "DescriptionStyleModel",
            "_view_count": null,
            "_view_module": "@jupyter-widgets/base",
            "_view_module_version": "1.2.0",
            "_view_name": "StyleView",
            "description_width": ""
          }
        },
        "24663ef171394e4481ef7b4f3a9fa9fb": {
          "model_module": "@jupyter-widgets/base",
          "model_name": "LayoutModel",
          "model_module_version": "1.2.0",
          "state": {
            "_model_module": "@jupyter-widgets/base",
            "_model_module_version": "1.2.0",
            "_model_name": "LayoutModel",
            "_view_count": null,
            "_view_module": "@jupyter-widgets/base",
            "_view_module_version": "1.2.0",
            "_view_name": "LayoutView",
            "align_content": null,
            "align_items": null,
            "align_self": null,
            "border": null,
            "bottom": null,
            "display": null,
            "flex": null,
            "flex_flow": null,
            "grid_area": null,
            "grid_auto_columns": null,
            "grid_auto_flow": null,
            "grid_auto_rows": null,
            "grid_column": null,
            "grid_gap": null,
            "grid_row": null,
            "grid_template_areas": null,
            "grid_template_columns": null,
            "grid_template_rows": null,
            "height": null,
            "justify_content": null,
            "justify_items": null,
            "left": null,
            "margin": null,
            "max_height": null,
            "max_width": null,
            "min_height": null,
            "min_width": null,
            "object_fit": null,
            "object_position": null,
            "order": null,
            "overflow": null,
            "overflow_x": null,
            "overflow_y": null,
            "padding": null,
            "right": null,
            "top": null,
            "visibility": null,
            "width": null
          }
        },
        "ab737ca494b84e45a105bdc636c38b5a": {
          "model_module": "@jupyter-widgets/controls",
          "model_name": "ProgressStyleModel",
          "model_module_version": "1.5.0",
          "state": {
            "_model_module": "@jupyter-widgets/controls",
            "_model_module_version": "1.5.0",
            "_model_name": "ProgressStyleModel",
            "_view_count": null,
            "_view_module": "@jupyter-widgets/base",
            "_view_module_version": "1.2.0",
            "_view_name": "StyleView",
            "bar_color": null,
            "description_width": ""
          }
        },
        "cf6e9f7e80a14accb61aab6ae4411f71": {
          "model_module": "@jupyter-widgets/base",
          "model_name": "LayoutModel",
          "model_module_version": "1.2.0",
          "state": {
            "_model_module": "@jupyter-widgets/base",
            "_model_module_version": "1.2.0",
            "_model_name": "LayoutModel",
            "_view_count": null,
            "_view_module": "@jupyter-widgets/base",
            "_view_module_version": "1.2.0",
            "_view_name": "LayoutView",
            "align_content": null,
            "align_items": null,
            "align_self": null,
            "border": null,
            "bottom": null,
            "display": null,
            "flex": null,
            "flex_flow": null,
            "grid_area": null,
            "grid_auto_columns": null,
            "grid_auto_flow": null,
            "grid_auto_rows": null,
            "grid_column": null,
            "grid_gap": null,
            "grid_row": null,
            "grid_template_areas": null,
            "grid_template_columns": null,
            "grid_template_rows": null,
            "height": null,
            "justify_content": null,
            "justify_items": null,
            "left": null,
            "margin": null,
            "max_height": null,
            "max_width": null,
            "min_height": null,
            "min_width": null,
            "object_fit": null,
            "object_position": null,
            "order": null,
            "overflow": null,
            "overflow_x": null,
            "overflow_y": null,
            "padding": null,
            "right": null,
            "top": null,
            "visibility": null,
            "width": null
          }
        },
        "d039e53eef844ee29f070f3f07afe7ea": {
          "model_module": "@jupyter-widgets/controls",
          "model_name": "DescriptionStyleModel",
          "model_module_version": "1.5.0",
          "state": {
            "_model_module": "@jupyter-widgets/controls",
            "_model_module_version": "1.5.0",
            "_model_name": "DescriptionStyleModel",
            "_view_count": null,
            "_view_module": "@jupyter-widgets/base",
            "_view_module_version": "1.2.0",
            "_view_name": "StyleView",
            "description_width": ""
          }
        },
        "e9e7eb68edd3415ca9e002b08290ff64": {
          "model_module": "@jupyter-widgets/controls",
          "model_name": "HBoxModel",
          "model_module_version": "1.5.0",
          "state": {
            "_dom_classes": [],
            "_model_module": "@jupyter-widgets/controls",
            "_model_module_version": "1.5.0",
            "_model_name": "HBoxModel",
            "_view_count": null,
            "_view_module": "@jupyter-widgets/controls",
            "_view_module_version": "1.5.0",
            "_view_name": "HBoxView",
            "box_style": "",
            "children": [
              "IPY_MODEL_24c3f3af120f4449856fa57ad551d797",
              "IPY_MODEL_1c58f0a860af4e82ab902c153d1afcff",
              "IPY_MODEL_5d5e92503a534b4f9afe917c52de18c2"
            ],
            "layout": "IPY_MODEL_ea914918fa914cd9aafe2247e5997ffb"
          }
        },
        "24c3f3af120f4449856fa57ad551d797": {
          "model_module": "@jupyter-widgets/controls",
          "model_name": "HTMLModel",
          "model_module_version": "1.5.0",
          "state": {
            "_dom_classes": [],
            "_model_module": "@jupyter-widgets/controls",
            "_model_module_version": "1.5.0",
            "_model_name": "HTMLModel",
            "_view_count": null,
            "_view_module": "@jupyter-widgets/controls",
            "_view_module_version": "1.5.0",
            "_view_name": "HTMLView",
            "description": "",
            "description_tooltip": null,
            "layout": "IPY_MODEL_afd198bc57064b7fbdffaeec866909d6",
            "placeholder": "​",
            "style": "IPY_MODEL_d1921bcef8a94be7bad218eefc67b757",
            "value": "config.json: 100%"
          }
        },
        "1c58f0a860af4e82ab902c153d1afcff": {
          "model_module": "@jupyter-widgets/controls",
          "model_name": "FloatProgressModel",
          "model_module_version": "1.5.0",
          "state": {
            "_dom_classes": [],
            "_model_module": "@jupyter-widgets/controls",
            "_model_module_version": "1.5.0",
            "_model_name": "FloatProgressModel",
            "_view_count": null,
            "_view_module": "@jupyter-widgets/controls",
            "_view_module_version": "1.5.0",
            "_view_name": "ProgressView",
            "bar_style": "success",
            "description": "",
            "description_tooltip": null,
            "layout": "IPY_MODEL_6e0b2431e34c4fd78805f8fae5a48ec5",
            "max": 570,
            "min": 0,
            "orientation": "horizontal",
            "style": "IPY_MODEL_662eee718f55441c8b2fc6de9afff906",
            "value": 570
          }
        },
        "5d5e92503a534b4f9afe917c52de18c2": {
          "model_module": "@jupyter-widgets/controls",
          "model_name": "HTMLModel",
          "model_module_version": "1.5.0",
          "state": {
            "_dom_classes": [],
            "_model_module": "@jupyter-widgets/controls",
            "_model_module_version": "1.5.0",
            "_model_name": "HTMLModel",
            "_view_count": null,
            "_view_module": "@jupyter-widgets/controls",
            "_view_module_version": "1.5.0",
            "_view_name": "HTMLView",
            "description": "",
            "description_tooltip": null,
            "layout": "IPY_MODEL_a6fc8877ca2e4e69aff2884b515142f7",
            "placeholder": "​",
            "style": "IPY_MODEL_3c8e499526374a5398b19c3085cc8385",
            "value": " 570/570 [00:00&lt;00:00, 37.4kB/s]"
          }
        },
        "ea914918fa914cd9aafe2247e5997ffb": {
          "model_module": "@jupyter-widgets/base",
          "model_name": "LayoutModel",
          "model_module_version": "1.2.0",
          "state": {
            "_model_module": "@jupyter-widgets/base",
            "_model_module_version": "1.2.0",
            "_model_name": "LayoutModel",
            "_view_count": null,
            "_view_module": "@jupyter-widgets/base",
            "_view_module_version": "1.2.0",
            "_view_name": "LayoutView",
            "align_content": null,
            "align_items": null,
            "align_self": null,
            "border": null,
            "bottom": null,
            "display": null,
            "flex": null,
            "flex_flow": null,
            "grid_area": null,
            "grid_auto_columns": null,
            "grid_auto_flow": null,
            "grid_auto_rows": null,
            "grid_column": null,
            "grid_gap": null,
            "grid_row": null,
            "grid_template_areas": null,
            "grid_template_columns": null,
            "grid_template_rows": null,
            "height": null,
            "justify_content": null,
            "justify_items": null,
            "left": null,
            "margin": null,
            "max_height": null,
            "max_width": null,
            "min_height": null,
            "min_width": null,
            "object_fit": null,
            "object_position": null,
            "order": null,
            "overflow": null,
            "overflow_x": null,
            "overflow_y": null,
            "padding": null,
            "right": null,
            "top": null,
            "visibility": null,
            "width": null
          }
        },
        "afd198bc57064b7fbdffaeec866909d6": {
          "model_module": "@jupyter-widgets/base",
          "model_name": "LayoutModel",
          "model_module_version": "1.2.0",
          "state": {
            "_model_module": "@jupyter-widgets/base",
            "_model_module_version": "1.2.0",
            "_model_name": "LayoutModel",
            "_view_count": null,
            "_view_module": "@jupyter-widgets/base",
            "_view_module_version": "1.2.0",
            "_view_name": "LayoutView",
            "align_content": null,
            "align_items": null,
            "align_self": null,
            "border": null,
            "bottom": null,
            "display": null,
            "flex": null,
            "flex_flow": null,
            "grid_area": null,
            "grid_auto_columns": null,
            "grid_auto_flow": null,
            "grid_auto_rows": null,
            "grid_column": null,
            "grid_gap": null,
            "grid_row": null,
            "grid_template_areas": null,
            "grid_template_columns": null,
            "grid_template_rows": null,
            "height": null,
            "justify_content": null,
            "justify_items": null,
            "left": null,
            "margin": null,
            "max_height": null,
            "max_width": null,
            "min_height": null,
            "min_width": null,
            "object_fit": null,
            "object_position": null,
            "order": null,
            "overflow": null,
            "overflow_x": null,
            "overflow_y": null,
            "padding": null,
            "right": null,
            "top": null,
            "visibility": null,
            "width": null
          }
        },
        "d1921bcef8a94be7bad218eefc67b757": {
          "model_module": "@jupyter-widgets/controls",
          "model_name": "DescriptionStyleModel",
          "model_module_version": "1.5.0",
          "state": {
            "_model_module": "@jupyter-widgets/controls",
            "_model_module_version": "1.5.0",
            "_model_name": "DescriptionStyleModel",
            "_view_count": null,
            "_view_module": "@jupyter-widgets/base",
            "_view_module_version": "1.2.0",
            "_view_name": "StyleView",
            "description_width": ""
          }
        },
        "6e0b2431e34c4fd78805f8fae5a48ec5": {
          "model_module": "@jupyter-widgets/base",
          "model_name": "LayoutModel",
          "model_module_version": "1.2.0",
          "state": {
            "_model_module": "@jupyter-widgets/base",
            "_model_module_version": "1.2.0",
            "_model_name": "LayoutModel",
            "_view_count": null,
            "_view_module": "@jupyter-widgets/base",
            "_view_module_version": "1.2.0",
            "_view_name": "LayoutView",
            "align_content": null,
            "align_items": null,
            "align_self": null,
            "border": null,
            "bottom": null,
            "display": null,
            "flex": null,
            "flex_flow": null,
            "grid_area": null,
            "grid_auto_columns": null,
            "grid_auto_flow": null,
            "grid_auto_rows": null,
            "grid_column": null,
            "grid_gap": null,
            "grid_row": null,
            "grid_template_areas": null,
            "grid_template_columns": null,
            "grid_template_rows": null,
            "height": null,
            "justify_content": null,
            "justify_items": null,
            "left": null,
            "margin": null,
            "max_height": null,
            "max_width": null,
            "min_height": null,
            "min_width": null,
            "object_fit": null,
            "object_position": null,
            "order": null,
            "overflow": null,
            "overflow_x": null,
            "overflow_y": null,
            "padding": null,
            "right": null,
            "top": null,
            "visibility": null,
            "width": null
          }
        },
        "662eee718f55441c8b2fc6de9afff906": {
          "model_module": "@jupyter-widgets/controls",
          "model_name": "ProgressStyleModel",
          "model_module_version": "1.5.0",
          "state": {
            "_model_module": "@jupyter-widgets/controls",
            "_model_module_version": "1.5.0",
            "_model_name": "ProgressStyleModel",
            "_view_count": null,
            "_view_module": "@jupyter-widgets/base",
            "_view_module_version": "1.2.0",
            "_view_name": "StyleView",
            "bar_color": null,
            "description_width": ""
          }
        },
        "a6fc8877ca2e4e69aff2884b515142f7": {
          "model_module": "@jupyter-widgets/base",
          "model_name": "LayoutModel",
          "model_module_version": "1.2.0",
          "state": {
            "_model_module": "@jupyter-widgets/base",
            "_model_module_version": "1.2.0",
            "_model_name": "LayoutModel",
            "_view_count": null,
            "_view_module": "@jupyter-widgets/base",
            "_view_module_version": "1.2.0",
            "_view_name": "LayoutView",
            "align_content": null,
            "align_items": null,
            "align_self": null,
            "border": null,
            "bottom": null,
            "display": null,
            "flex": null,
            "flex_flow": null,
            "grid_area": null,
            "grid_auto_columns": null,
            "grid_auto_flow": null,
            "grid_auto_rows": null,
            "grid_column": null,
            "grid_gap": null,
            "grid_row": null,
            "grid_template_areas": null,
            "grid_template_columns": null,
            "grid_template_rows": null,
            "height": null,
            "justify_content": null,
            "justify_items": null,
            "left": null,
            "margin": null,
            "max_height": null,
            "max_width": null,
            "min_height": null,
            "min_width": null,
            "object_fit": null,
            "object_position": null,
            "order": null,
            "overflow": null,
            "overflow_x": null,
            "overflow_y": null,
            "padding": null,
            "right": null,
            "top": null,
            "visibility": null,
            "width": null
          }
        },
        "3c8e499526374a5398b19c3085cc8385": {
          "model_module": "@jupyter-widgets/controls",
          "model_name": "DescriptionStyleModel",
          "model_module_version": "1.5.0",
          "state": {
            "_model_module": "@jupyter-widgets/controls",
            "_model_module_version": "1.5.0",
            "_model_name": "DescriptionStyleModel",
            "_view_count": null,
            "_view_module": "@jupyter-widgets/base",
            "_view_module_version": "1.2.0",
            "_view_name": "StyleView",
            "description_width": ""
          }
        },
        "859f278488274ef0bfd9c6c573b117bc": {
          "model_module": "@jupyter-widgets/controls",
          "model_name": "HBoxModel",
          "model_module_version": "1.5.0",
          "state": {
            "_dom_classes": [],
            "_model_module": "@jupyter-widgets/controls",
            "_model_module_version": "1.5.0",
            "_model_name": "HBoxModel",
            "_view_count": null,
            "_view_module": "@jupyter-widgets/controls",
            "_view_module_version": "1.5.0",
            "_view_name": "HBoxView",
            "box_style": "",
            "children": [
              "IPY_MODEL_d87c5d789cf64c2b8781518553cae8ab",
              "IPY_MODEL_9ca3a171b9b54fc5bf90c15f6da2f2cc",
              "IPY_MODEL_c48644f630e44c9db995e207697a9379"
            ],
            "layout": "IPY_MODEL_4dbab58bacea4abe909538315b3284c5"
          }
        },
        "d87c5d789cf64c2b8781518553cae8ab": {
          "model_module": "@jupyter-widgets/controls",
          "model_name": "HTMLModel",
          "model_module_version": "1.5.0",
          "state": {
            "_dom_classes": [],
            "_model_module": "@jupyter-widgets/controls",
            "_model_module_version": "1.5.0",
            "_model_name": "HTMLModel",
            "_view_count": null,
            "_view_module": "@jupyter-widgets/controls",
            "_view_module_version": "1.5.0",
            "_view_name": "HTMLView",
            "description": "",
            "description_tooltip": null,
            "layout": "IPY_MODEL_39247c80e7e345e7a1e6b1b32be17eef",
            "placeholder": "​",
            "style": "IPY_MODEL_a17dec347e0a48dd93d78cc37dc7021a",
            "value": "model.safetensors: 100%"
          }
        },
        "9ca3a171b9b54fc5bf90c15f6da2f2cc": {
          "model_module": "@jupyter-widgets/controls",
          "model_name": "FloatProgressModel",
          "model_module_version": "1.5.0",
          "state": {
            "_dom_classes": [],
            "_model_module": "@jupyter-widgets/controls",
            "_model_module_version": "1.5.0",
            "_model_name": "FloatProgressModel",
            "_view_count": null,
            "_view_module": "@jupyter-widgets/controls",
            "_view_module_version": "1.5.0",
            "_view_name": "ProgressView",
            "bar_style": "success",
            "description": "",
            "description_tooltip": null,
            "layout": "IPY_MODEL_0956aff8e3cb41eaa6dda5cc5a9bcb2f",
            "max": 440449768,
            "min": 0,
            "orientation": "horizontal",
            "style": "IPY_MODEL_332e40cc96d740178dde5283a1044563",
            "value": 440449768
          }
        },
        "c48644f630e44c9db995e207697a9379": {
          "model_module": "@jupyter-widgets/controls",
          "model_name": "HTMLModel",
          "model_module_version": "1.5.0",
          "state": {
            "_dom_classes": [],
            "_model_module": "@jupyter-widgets/controls",
            "_model_module_version": "1.5.0",
            "_model_name": "HTMLModel",
            "_view_count": null,
            "_view_module": "@jupyter-widgets/controls",
            "_view_module_version": "1.5.0",
            "_view_name": "HTMLView",
            "description": "",
            "description_tooltip": null,
            "layout": "IPY_MODEL_0fb42b7ccd43445f956b6388d2f660f0",
            "placeholder": "​",
            "style": "IPY_MODEL_afc108a2f89044f2b09766e7a8805319",
            "value": " 440M/440M [00:03&lt;00:00, 124MB/s]"
          }
        },
        "4dbab58bacea4abe909538315b3284c5": {
          "model_module": "@jupyter-widgets/base",
          "model_name": "LayoutModel",
          "model_module_version": "1.2.0",
          "state": {
            "_model_module": "@jupyter-widgets/base",
            "_model_module_version": "1.2.0",
            "_model_name": "LayoutModel",
            "_view_count": null,
            "_view_module": "@jupyter-widgets/base",
            "_view_module_version": "1.2.0",
            "_view_name": "LayoutView",
            "align_content": null,
            "align_items": null,
            "align_self": null,
            "border": null,
            "bottom": null,
            "display": null,
            "flex": null,
            "flex_flow": null,
            "grid_area": null,
            "grid_auto_columns": null,
            "grid_auto_flow": null,
            "grid_auto_rows": null,
            "grid_column": null,
            "grid_gap": null,
            "grid_row": null,
            "grid_template_areas": null,
            "grid_template_columns": null,
            "grid_template_rows": null,
            "height": null,
            "justify_content": null,
            "justify_items": null,
            "left": null,
            "margin": null,
            "max_height": null,
            "max_width": null,
            "min_height": null,
            "min_width": null,
            "object_fit": null,
            "object_position": null,
            "order": null,
            "overflow": null,
            "overflow_x": null,
            "overflow_y": null,
            "padding": null,
            "right": null,
            "top": null,
            "visibility": null,
            "width": null
          }
        },
        "39247c80e7e345e7a1e6b1b32be17eef": {
          "model_module": "@jupyter-widgets/base",
          "model_name": "LayoutModel",
          "model_module_version": "1.2.0",
          "state": {
            "_model_module": "@jupyter-widgets/base",
            "_model_module_version": "1.2.0",
            "_model_name": "LayoutModel",
            "_view_count": null,
            "_view_module": "@jupyter-widgets/base",
            "_view_module_version": "1.2.0",
            "_view_name": "LayoutView",
            "align_content": null,
            "align_items": null,
            "align_self": null,
            "border": null,
            "bottom": null,
            "display": null,
            "flex": null,
            "flex_flow": null,
            "grid_area": null,
            "grid_auto_columns": null,
            "grid_auto_flow": null,
            "grid_auto_rows": null,
            "grid_column": null,
            "grid_gap": null,
            "grid_row": null,
            "grid_template_areas": null,
            "grid_template_columns": null,
            "grid_template_rows": null,
            "height": null,
            "justify_content": null,
            "justify_items": null,
            "left": null,
            "margin": null,
            "max_height": null,
            "max_width": null,
            "min_height": null,
            "min_width": null,
            "object_fit": null,
            "object_position": null,
            "order": null,
            "overflow": null,
            "overflow_x": null,
            "overflow_y": null,
            "padding": null,
            "right": null,
            "top": null,
            "visibility": null,
            "width": null
          }
        },
        "a17dec347e0a48dd93d78cc37dc7021a": {
          "model_module": "@jupyter-widgets/controls",
          "model_name": "DescriptionStyleModel",
          "model_module_version": "1.5.0",
          "state": {
            "_model_module": "@jupyter-widgets/controls",
            "_model_module_version": "1.5.0",
            "_model_name": "DescriptionStyleModel",
            "_view_count": null,
            "_view_module": "@jupyter-widgets/base",
            "_view_module_version": "1.2.0",
            "_view_name": "StyleView",
            "description_width": ""
          }
        },
        "0956aff8e3cb41eaa6dda5cc5a9bcb2f": {
          "model_module": "@jupyter-widgets/base",
          "model_name": "LayoutModel",
          "model_module_version": "1.2.0",
          "state": {
            "_model_module": "@jupyter-widgets/base",
            "_model_module_version": "1.2.0",
            "_model_name": "LayoutModel",
            "_view_count": null,
            "_view_module": "@jupyter-widgets/base",
            "_view_module_version": "1.2.0",
            "_view_name": "LayoutView",
            "align_content": null,
            "align_items": null,
            "align_self": null,
            "border": null,
            "bottom": null,
            "display": null,
            "flex": null,
            "flex_flow": null,
            "grid_area": null,
            "grid_auto_columns": null,
            "grid_auto_flow": null,
            "grid_auto_rows": null,
            "grid_column": null,
            "grid_gap": null,
            "grid_row": null,
            "grid_template_areas": null,
            "grid_template_columns": null,
            "grid_template_rows": null,
            "height": null,
            "justify_content": null,
            "justify_items": null,
            "left": null,
            "margin": null,
            "max_height": null,
            "max_width": null,
            "min_height": null,
            "min_width": null,
            "object_fit": null,
            "object_position": null,
            "order": null,
            "overflow": null,
            "overflow_x": null,
            "overflow_y": null,
            "padding": null,
            "right": null,
            "top": null,
            "visibility": null,
            "width": null
          }
        },
        "332e40cc96d740178dde5283a1044563": {
          "model_module": "@jupyter-widgets/controls",
          "model_name": "ProgressStyleModel",
          "model_module_version": "1.5.0",
          "state": {
            "_model_module": "@jupyter-widgets/controls",
            "_model_module_version": "1.5.0",
            "_model_name": "ProgressStyleModel",
            "_view_count": null,
            "_view_module": "@jupyter-widgets/base",
            "_view_module_version": "1.2.0",
            "_view_name": "StyleView",
            "bar_color": null,
            "description_width": ""
          }
        },
        "0fb42b7ccd43445f956b6388d2f660f0": {
          "model_module": "@jupyter-widgets/base",
          "model_name": "LayoutModel",
          "model_module_version": "1.2.0",
          "state": {
            "_model_module": "@jupyter-widgets/base",
            "_model_module_version": "1.2.0",
            "_model_name": "LayoutModel",
            "_view_count": null,
            "_view_module": "@jupyter-widgets/base",
            "_view_module_version": "1.2.0",
            "_view_name": "LayoutView",
            "align_content": null,
            "align_items": null,
            "align_self": null,
            "border": null,
            "bottom": null,
            "display": null,
            "flex": null,
            "flex_flow": null,
            "grid_area": null,
            "grid_auto_columns": null,
            "grid_auto_flow": null,
            "grid_auto_rows": null,
            "grid_column": null,
            "grid_gap": null,
            "grid_row": null,
            "grid_template_areas": null,
            "grid_template_columns": null,
            "grid_template_rows": null,
            "height": null,
            "justify_content": null,
            "justify_items": null,
            "left": null,
            "margin": null,
            "max_height": null,
            "max_width": null,
            "min_height": null,
            "min_width": null,
            "object_fit": null,
            "object_position": null,
            "order": null,
            "overflow": null,
            "overflow_x": null,
            "overflow_y": null,
            "padding": null,
            "right": null,
            "top": null,
            "visibility": null,
            "width": null
          }
        },
        "afc108a2f89044f2b09766e7a8805319": {
          "model_module": "@jupyter-widgets/controls",
          "model_name": "DescriptionStyleModel",
          "model_module_version": "1.5.0",
          "state": {
            "_model_module": "@jupyter-widgets/controls",
            "_model_module_version": "1.5.0",
            "_model_name": "DescriptionStyleModel",
            "_view_count": null,
            "_view_module": "@jupyter-widgets/base",
            "_view_module_version": "1.2.0",
            "_view_name": "StyleView",
            "description_width": ""
          }
        }
      }
    },
    "accelerator": "GPU"
  },
  "nbformat_minor": 0,
  "nbformat": 4,
  "cells": [
    {
      "cell_type": "markdown",
      "source": [
        "## Importing Modules"
      ],
      "metadata": {
        "id": "e5GLdlcZAy4L"
      }
    },
    {
      "cell_type": "code",
      "source": [
        "import pandas as pd\n",
        "import torch\n",
        "from torch import nn\n",
        "from torch.utils.data import DataLoader, Dataset\n",
        "from sklearn.model_selection import train_test_split\n",
        "from sklearn.metrics import mean_squared_error\n",
        "from transformers import BertTokenizer, BertModel, DataCollatorWithPadding, AdamW\n",
        "from tqdm import tqdm\n",
        "pd.set_option('display.max_columns', None)\n",
        "from math import sqrt\n",
        "import re\n",
        "import numpy as np\n",
        "tqdm.pandas()"
      ],
      "metadata": {
        "trusted": true,
        "execution": {
          "iopub.status.busy": "2024-12-06T06:18:40.304741Z",
          "iopub.execute_input": "2024-12-06T06:18:40.305154Z",
          "iopub.status.idle": "2024-12-06T06:18:55.896226Z",
          "shell.execute_reply.started": "2024-12-06T06:18:40.305116Z",
          "shell.execute_reply": "2024-12-06T06:18:55.895533Z"
        },
        "id": "EZzOqJm5_KoP"
      },
      "outputs": [],
      "execution_count": 1
    },
    {
      "cell_type": "markdown",
      "source": [
        "## Mounting Drive"
      ],
      "metadata": {
        "id": "vdypidakA7Kc"
      }
    },
    {
      "cell_type": "code",
      "source": [
        "from google.colab import drive\n",
        "drive.mount('/content/drive')"
      ],
      "metadata": {
        "colab": {
          "base_uri": "https://localhost:8080/"
        },
        "id": "_Qmvev6_Apx9",
        "outputId": "7975a09d-7372-4ddb-ddda-5fb56a975557"
      },
      "execution_count": 2,
      "outputs": [
        {
          "output_type": "stream",
          "name": "stdout",
          "text": [
            "Mounted at /content/drive\n"
          ]
        }
      ]
    },
    {
      "cell_type": "markdown",
      "source": [
        "## Selecting rows with 'salary' and 'description' and removing columns that are not necessary"
      ],
      "metadata": {
        "id": "VtLqwmm8BGs4"
      }
    },
    {
      "cell_type": "code",
      "source": [
        "def load_data(filepath):\n",
        "    data = pd.read_csv(filepath)\n",
        "    data = data.dropna(axis=0, subset='normalized_salary')\n",
        "    data = data.dropna(axis=0, subset='description')\n",
        "    data = data[data['pay_period']=='YEARLY']\n",
        "    data = data[data['currency']=='USD']\n",
        "    data.drop(['job_posting_url','original_listed_time',\n",
        "              'compensation_type', 'company_id',\n",
        "              'closed_time','remote_allowed','applies',\n",
        "              'posting_domain','application_url',\n",
        "              'fips','zip_code','min_salary','med_salary','max_salary',\n",
        "              'formatted_work_type','views','job_id','expiry',\n",
        "              'sponsored','listed_time','pay_period','currency','application_type'],axis=1,inplace=True)\n",
        "    data = data[data['normalized_salary']>10000]\n",
        "    return data"
      ],
      "metadata": {
        "trusted": true,
        "execution": {
          "iopub.status.busy": "2024-12-06T06:19:06.107280Z",
          "iopub.execute_input": "2024-12-06T06:19:06.108147Z",
          "iopub.status.idle": "2024-12-06T06:19:06.113455Z",
          "shell.execute_reply.started": "2024-12-06T06:19:06.108115Z",
          "shell.execute_reply": "2024-12-06T06:19:06.112564Z"
        },
        "id": "vNVN7QqC_KoR"
      },
      "outputs": [],
      "execution_count": 3
    },
    {
      "cell_type": "markdown",
      "source": [
        "## Loading the data"
      ],
      "metadata": {
        "id": "YGRc6EZRB92E"
      }
    },
    {
      "cell_type": "code",
      "source": [
        "file_loc = '/content/drive/MyDrive/Linkedin Job Posting Dataset/postings.csv'\n",
        "df=load_data(file_loc)"
      ],
      "metadata": {
        "trusted": true,
        "execution": {
          "iopub.status.busy": "2024-12-06T06:19:07.621885Z",
          "iopub.execute_input": "2024-12-06T06:19:07.622858Z",
          "iopub.status.idle": "2024-12-06T06:19:19.023755Z",
          "shell.execute_reply.started": "2024-12-06T06:19:07.622821Z",
          "shell.execute_reply": "2024-12-06T06:19:19.022780Z"
        },
        "id": "14L2KkX6_KoS"
      },
      "outputs": [],
      "execution_count": 5
    },
    {
      "cell_type": "markdown",
      "source": [
        "## Some basic data insights"
      ],
      "metadata": {
        "id": "Lr35I78eCIl4"
      }
    },
    {
      "cell_type": "code",
      "source": [
        "df.isna().sum()"
      ],
      "metadata": {
        "trusted": true,
        "execution": {
          "iopub.status.busy": "2024-12-06T06:19:24.900376Z",
          "iopub.execute_input": "2024-12-06T06:19:24.901165Z",
          "iopub.status.idle": "2024-12-06T06:19:24.918797Z",
          "shell.execute_reply.started": "2024-12-06T06:19:24.901132Z",
          "shell.execute_reply": "2024-12-06T06:19:24.917823Z"
        },
        "colab": {
          "base_uri": "https://localhost:8080/",
          "height": 335
        },
        "id": "CwEBhm5h_KoU",
        "outputId": "2e7d2a14-767b-46df-e0a4-bf26a4ae07e4"
      },
      "outputs": [
        {
          "output_type": "execute_result",
          "data": {
            "text/plain": [
              "company_name                    292\n",
              "title                             0\n",
              "description                       0\n",
              "location                          0\n",
              "formatted_experience_level     4949\n",
              "skills_desc                   20056\n",
              "work_type                         0\n",
              "normalized_salary                 0\n",
              "dtype: int64"
            ],
            "text/html": [
              "<div>\n",
              "<style scoped>\n",
              "    .dataframe tbody tr th:only-of-type {\n",
              "        vertical-align: middle;\n",
              "    }\n",
              "\n",
              "    .dataframe tbody tr th {\n",
              "        vertical-align: top;\n",
              "    }\n",
              "\n",
              "    .dataframe thead th {\n",
              "        text-align: right;\n",
              "    }\n",
              "</style>\n",
              "<table border=\"1\" class=\"dataframe\">\n",
              "  <thead>\n",
              "    <tr style=\"text-align: right;\">\n",
              "      <th></th>\n",
              "      <th>0</th>\n",
              "    </tr>\n",
              "  </thead>\n",
              "  <tbody>\n",
              "    <tr>\n",
              "      <th>company_name</th>\n",
              "      <td>292</td>\n",
              "    </tr>\n",
              "    <tr>\n",
              "      <th>title</th>\n",
              "      <td>0</td>\n",
              "    </tr>\n",
              "    <tr>\n",
              "      <th>description</th>\n",
              "      <td>0</td>\n",
              "    </tr>\n",
              "    <tr>\n",
              "      <th>location</th>\n",
              "      <td>0</td>\n",
              "    </tr>\n",
              "    <tr>\n",
              "      <th>formatted_experience_level</th>\n",
              "      <td>4949</td>\n",
              "    </tr>\n",
              "    <tr>\n",
              "      <th>skills_desc</th>\n",
              "      <td>20056</td>\n",
              "    </tr>\n",
              "    <tr>\n",
              "      <th>work_type</th>\n",
              "      <td>0</td>\n",
              "    </tr>\n",
              "    <tr>\n",
              "      <th>normalized_salary</th>\n",
              "      <td>0</td>\n",
              "    </tr>\n",
              "  </tbody>\n",
              "</table>\n",
              "</div><br><label><b>dtype:</b> int64</label>"
            ]
          },
          "metadata": {},
          "execution_count": 6
        }
      ],
      "execution_count": 6
    },
    {
      "cell_type": "code",
      "source": [
        "# removing info 'descriptions' columns having length less than 100 as they contain no info\n",
        "df = df[\n",
        "    df[\"description\"].apply(lambda x: len(x) > 100)\n",
        "]"
      ],
      "metadata": {
        "trusted": true,
        "execution": {
          "iopub.status.busy": "2024-12-06T06:19:30.234784Z",
          "iopub.execute_input": "2024-12-06T06:19:30.235925Z",
          "iopub.status.idle": "2024-12-06T06:19:30.254565Z",
          "shell.execute_reply.started": "2024-12-06T06:19:30.235885Z",
          "shell.execute_reply": "2024-12-06T06:19:30.253815Z"
        },
        "id": "9bxh9d3D_KoW"
      },
      "outputs": [],
      "execution_count": 7
    },
    {
      "cell_type": "markdown",
      "source": [
        "## Conactenating columns"
      ],
      "metadata": {
        "id": "mgZ-ughxEXhA"
      }
    },
    {
      "cell_type": "code",
      "source": [
        "# Concatenating columns to make a single 'info' column\n",
        "df.replace(np.nan, '', regex=True, inplace=True)\n",
        "df_f = pd.DataFrame()\n",
        "df_f['info'] = (\n",
        "    df['company_name'] + ' ' +\n",
        "    df['title'] + ' ' +\n",
        "    df['formatted_experience_level'] + ' ' +\n",
        "    df['work_type'] + ' ' +\n",
        "    df['location'] + ' ' +\n",
        "    df['skills_desc'] + ' ' +\n",
        "    df['description']\n",
        ")\n",
        "df_f['normalized_salary'] = df['normalized_salary'].astype(int)"
      ],
      "metadata": {
        "trusted": true,
        "execution": {
          "iopub.status.busy": "2024-12-06T06:19:35.185545Z",
          "iopub.execute_input": "2024-12-06T06:19:35.185892Z",
          "iopub.status.idle": "2024-12-06T06:19:35.280752Z",
          "shell.execute_reply.started": "2024-12-06T06:19:35.185861Z",
          "shell.execute_reply": "2024-12-06T06:19:35.280074Z"
        },
        "id": "S5JWxBz-_KoX"
      },
      "outputs": [],
      "execution_count": 8
    },
    {
      "cell_type": "markdown",
      "source": [
        "## Cleaning the 'info' column"
      ],
      "metadata": {
        "id": "iqQGsbnvEcU_"
      }
    },
    {
      "cell_type": "code",
      "source": [
        "# cleaning\n",
        "def clean_text(text):\n",
        "    # Lower\n",
        "    text = text.lower()\n",
        "\n",
        "    # Spacing and filters\n",
        "    # text = re.sub(r'\\([^)]*\\)', '', text) # removing texts inside '(' and ')'\n",
        "    # text = re.sub(r'\\d+', '', text) # removing digits (may change later)\n",
        "    text = re.sub(r'\\*+', '', text)\n",
        "    text = re.sub(r\"http\\S+\", \"\", text) # removing websites\n",
        "    text = re.sub(r'\\(?\\d{3}\\)?[-.\\s]?\\d{3}[-.\\s]?\\d{4}', '', text)\n",
        "    text = re.sub(r'\\b\\S+?@\\S+?\\.\\S+?\\b', '', text) # removing email address\n",
        "    text = re.sub(r'\\\\n|\\n',' ',text)\n",
        "    text = re.sub(r\"([!\\\"'#$%&()*\\+,-./:;<=>?@\\\\\\[\\]^_`{|}~])\", r\" \\1 \", text)  # add spacing\n",
        "    text = re.sub(\" +\", \" \", text)  # remove multiple spaces\n",
        "    text = text.strip()  # strip white spaces\n",
        "\n",
        "    return text"
      ],
      "metadata": {
        "trusted": true,
        "execution": {
          "iopub.status.busy": "2024-12-06T06:19:42.572893Z",
          "iopub.execute_input": "2024-12-06T06:19:42.573226Z",
          "iopub.status.idle": "2024-12-06T06:19:42.578877Z",
          "shell.execute_reply.started": "2024-12-06T06:19:42.573195Z",
          "shell.execute_reply": "2024-12-06T06:19:42.577990Z"
        },
        "id": "upbL_We-_KoY"
      },
      "outputs": [],
      "execution_count": 10
    },
    {
      "cell_type": "code",
      "source": [
        "df_f['info'] = df_f['info'].progress_apply(clean_text)"
      ],
      "metadata": {
        "trusted": true,
        "execution": {
          "iopub.status.busy": "2024-12-06T06:19:57.229010Z",
          "iopub.execute_input": "2024-12-06T06:19:57.229347Z",
          "iopub.status.idle": "2024-12-06T06:20:15.617127Z",
          "shell.execute_reply.started": "2024-12-06T06:19:57.229317Z",
          "shell.execute_reply": "2024-12-06T06:20:15.616262Z"
        },
        "colab": {
          "base_uri": "https://localhost:8080/"
        },
        "id": "QXK41Q1w_KoZ",
        "outputId": "2d5480bc-70a8-436b-b0d9-1e24a4e0dc04"
      },
      "outputs": [
        {
          "output_type": "stream",
          "name": "stderr",
          "text": [
            "100%|██████████| 20193/20193 [00:24<00:00, 825.87it/s]\n"
          ]
        }
      ],
      "execution_count": 11
    },
    {
      "cell_type": "code",
      "source": [
        "df_f['normalized_salary'].min(), df_f['normalized_salary'].max()"
      ],
      "metadata": {
        "colab": {
          "base_uri": "https://localhost:8080/"
        },
        "id": "_WC6fj6WF08b",
        "outputId": "3d00e62f-4ba3-4e2c-e58d-3f06b42594eb"
      },
      "execution_count": 12,
      "outputs": [
        {
          "output_type": "execute_result",
          "data": {
            "text/plain": [
              "(10500, 102500000)"
            ]
          },
          "metadata": {},
          "execution_count": 12
        }
      ]
    },
    {
      "cell_type": "code",
      "source": [
        "Q1 = df_f['normalized_salary'].quantile(0.25)\n",
        "Q3 = df_f['normalized_salary'].quantile(0.75)\n",
        "IQR = Q3 - Q1    #IQR is interquartile range\n",
        "filter = (df_f['normalized_salary'] >= Q1 - 1.5 * IQR) & (df_f['normalized_salary'] <= Q3 + 1.5 *IQR)\n",
        "df_f = df_f[filter]"
      ],
      "metadata": {
        "trusted": true,
        "execution": {
          "iopub.status.busy": "2024-12-06T06:20:19.977625Z",
          "iopub.execute_input": "2024-12-06T06:20:19.978258Z",
          "iopub.status.idle": "2024-12-06T06:20:19.990123Z",
          "shell.execute_reply.started": "2024-12-06T06:20:19.978227Z",
          "shell.execute_reply": "2024-12-06T06:20:19.989259Z"
        },
        "id": "obhb23Wp_Koa"
      },
      "outputs": [],
      "execution_count": 13
    },
    {
      "cell_type": "code",
      "source": [
        "df_f['normalized_salary'].min(), df_f['normalized_salary'].max()"
      ],
      "metadata": {
        "trusted": true,
        "execution": {
          "iopub.status.busy": "2024-12-06T06:20:24.783267Z",
          "iopub.execute_input": "2024-12-06T06:20:24.783600Z",
          "iopub.status.idle": "2024-12-06T06:20:24.789945Z",
          "shell.execute_reply.started": "2024-12-06T06:20:24.783574Z",
          "shell.execute_reply": "2024-12-06T06:20:24.788918Z"
        },
        "colab": {
          "base_uri": "https://localhost:8080/"
        },
        "id": "a89HpbZF_Kob",
        "outputId": "d52a683f-9311-4c21-fda9-1ad0bd1c021a"
      },
      "outputs": [
        {
          "output_type": "execute_result",
          "data": {
            "text/plain": [
              "(10500, 245500)"
            ]
          },
          "metadata": {},
          "execution_count": 14
        }
      ],
      "execution_count": 14
    },
    {
      "cell_type": "code",
      "source": [
        "df_f['normalized_salary'].plot(kind='hist')"
      ],
      "metadata": {
        "colab": {
          "base_uri": "https://localhost:8080/",
          "height": 447
        },
        "id": "x7saSwD2Gy7c",
        "outputId": "f3ff2e85-709b-4372-f8ff-ffc9f9ec8e3b"
      },
      "execution_count": 15,
      "outputs": [
        {
          "output_type": "execute_result",
          "data": {
            "text/plain": [
              "<Axes: ylabel='Frequency'>"
            ]
          },
          "metadata": {},
          "execution_count": 15
        },
        {
          "output_type": "display_data",
          "data": {
            "text/plain": [
              "<Figure size 640x480 with 1 Axes>"
            ],
            "image/png": "[encoded data removed]"
          },
          "metadata": {}
        }
      ]
    },
    {
      "cell_type": "code",
      "source": [
        "print(df_f.shape)\n",
        "df_f.to_csv('df_f.csv', index=False)"
      ],
      "metadata": {
        "trusted": true,
        "execution": {
          "iopub.status.busy": "2024-12-06T06:20:33.265373Z",
          "iopub.execute_input": "2024-12-06T06:20:33.266239Z",
          "iopub.status.idle": "2024-12-06T06:20:35.465649Z",
          "shell.execute_reply.started": "2024-12-06T06:20:33.266205Z",
          "shell.execute_reply": "2024-12-06T06:20:35.464900Z"
        },
        "colab": {
          "base_uri": "https://localhost:8080/"
        },
        "id": "xlmJUola_Kob",
        "outputId": "4f2f374e-c107-4d2a-eed0-f442d300cef7"
      },
      "outputs": [
        {
          "output_type": "stream",
          "name": "stdout",
          "text": [
            "(19479, 2)\n"
          ]
        }
      ],
      "execution_count": 16
    },
    {
      "cell_type": "markdown",
      "source": [
        "## Load and tokenize data\n"
      ],
      "metadata": {
        "id": "KhQ-_WgX_Kof"
      }
    },
    {
      "cell_type": "code",
      "source": [
        "def load_data_clean(file_loc):\n",
        "    data = pd.read_csv(file_loc)\n",
        "    return data\n",
        "\n",
        "def preprocess_data(texts, labels, tokenizer, max_len):\n",
        "    \"\"\"Tokenizes text data using a tokenizer.\"\"\"\n",
        "    inputs = tokenizer(\n",
        "        texts,\n",
        "        max_length=max_len,\n",
        "        truncation=True,\n",
        "        padding=True,\n",
        "        return_tensors=\"pt\"\n",
        "    )\n",
        "    return inputs, torch.tensor(labels)"
      ],
      "metadata": {
        "trusted": true,
        "execution": {
          "iopub.status.busy": "2024-12-06T06:20:39.092290Z",
          "iopub.execute_input": "2024-12-06T06:20:39.092945Z",
          "iopub.status.idle": "2024-12-06T06:20:39.097656Z",
          "shell.execute_reply.started": "2024-12-06T06:20:39.092911Z",
          "shell.execute_reply": "2024-12-06T06:20:39.096811Z"
        },
        "id": "tThDZuxC_Kog"
      },
      "outputs": [],
      "execution_count": 18
    },
    {
      "cell_type": "markdown",
      "source": [
        "## Dataclass for handling text and labels"
      ],
      "metadata": {
        "id": "uDj87aXE_Koh"
      }
    },
    {
      "cell_type": "code",
      "source": [
        "class TextDataset(Dataset):\n",
        "    \"\"\"Custom Dataset class for loading tokenized text and labels.\"\"\"\n",
        "    def __init__(self, encodings, labels):\n",
        "        self.encodings = encodings\n",
        "        self.labels = labels\n",
        "\n",
        "    def __getitem__(self, idx):\n",
        "        item = {key: torch.tensor(val[idx]) for key, val in self.encodings.items()}\n",
        "        item['labels'] = torch.tensor(self.labels[idx], dtype=torch.float32)\n",
        "        return item\n",
        "\n",
        "    def __len__(self):\n",
        "        return len(self.labels)"
      ],
      "metadata": {
        "trusted": true,
        "execution": {
          "iopub.status.busy": "2024-12-06T06:20:42.753588Z",
          "iopub.execute_input": "2024-12-06T06:20:42.753915Z",
          "iopub.status.idle": "2024-12-06T06:20:42.759354Z",
          "shell.execute_reply.started": "2024-12-06T06:20:42.753887Z",
          "shell.execute_reply": "2024-12-06T06:20:42.758390Z"
        },
        "id": "ig3y41hI_Koh"
      },
      "outputs": [],
      "execution_count": 19
    },
    {
      "cell_type": "markdown",
      "source": [
        "## Prepare dataloaders with train, val, and test splits"
      ],
      "metadata": {
        "id": "8MIpDquv_Koi"
      }
    },
    {
      "cell_type": "code",
      "source": [
        "def prepare_dataloaders(data, tokenizer, max_len, train_batch_size,\n",
        "                        val_batch_size, test_batch_size,\n",
        "                        test_size=0.2, val_size=0.1, seed=42):\n",
        "    # Split data with fixed random_state for reproducibility\n",
        "    train_data, test_data = train_test_split(data, test_size=test_size, random_state=seed)\n",
        "    train_data, val_data = train_test_split(train_data, test_size=val_size, random_state=seed)\n",
        "\n",
        "    # Apply log transformation\n",
        "    train_data['normalized_salary'] = np.log1p(train_data['normalized_salary'])\n",
        "    val_data['normalized_salary'] = np.log1p(val_data['normalized_salary'])\n",
        "    test_data['normalized_salary'] = np.log1p(test_data['normalized_salary'])\n",
        "\n",
        "    # Tokenize data\n",
        "    train_inputs, train_labels = preprocess_data(train_data[\"info\"].tolist(), train_data[\"normalized_salary\"].tolist(), tokenizer, max_len)\n",
        "    val_inputs, val_labels = preprocess_data(val_data[\"info\"].tolist(), val_data[\"normalized_salary\"].tolist(), tokenizer, max_len)\n",
        "    test_inputs, test_labels = preprocess_data(test_data[\"info\"].tolist(), test_data[\"normalized_salary\"].tolist(), tokenizer, max_len)\n",
        "\n",
        "    # Create datasets\n",
        "    train_dataset = TextDataset(train_inputs, train_labels)\n",
        "    val_dataset = TextDataset(val_inputs, val_labels)\n",
        "    test_dataset = TextDataset(test_inputs, test_labels)\n",
        "\n",
        "    # Data collator for dynamic padding\n",
        "    data_collator = DataCollatorWithPadding(tokenizer=tokenizer)\n",
        "\n",
        "    # Create DataLoaders\n",
        "    train_loader = DataLoader(train_dataset, batch_size=train_batch_size, shuffle=True, collate_fn=data_collator)\n",
        "    val_loader = DataLoader(val_dataset, batch_size=val_batch_size, collate_fn=data_collator)\n",
        "    test_loader = DataLoader(test_dataset, batch_size=test_batch_size, collate_fn=data_collator)\n",
        "\n",
        "    return train_loader, val_loader, test_loader"
      ],
      "metadata": {
        "trusted": true,
        "execution": {
          "iopub.status.busy": "2024-12-06T06:21:11.177337Z",
          "iopub.execute_input": "2024-12-06T06:21:11.177953Z",
          "iopub.status.idle": "2024-12-06T06:21:11.185948Z",
          "shell.execute_reply.started": "2024-12-06T06:21:11.177917Z",
          "shell.execute_reply": "2024-12-06T06:21:11.184949Z"
        },
        "id": "_PUPTUEC_Koi"
      },
      "outputs": [],
      "execution_count": 20
    },
    {
      "cell_type": "markdown",
      "source": [
        "## Define the model for regression"
      ],
      "metadata": {
        "id": "7KKumBvO_Koi"
      }
    },
    {
      "cell_type": "code",
      "source": [
        "class BERTRegression(nn.Module):\n",
        "    def __init__(self, model_name=\"bert-base-uncased\"):\n",
        "        super(BERTRegression, self).__init__()\n",
        "        self.bert = BertModel.from_pretrained(model_name)\n",
        "        self.regressor = nn.Linear(self.bert.config.hidden_size, 1)\n",
        "\n",
        "    def forward(self, input_ids, attention_mask):\n",
        "        outputs = self.bert(input_ids=input_ids, attention_mask=attention_mask)\n",
        "        last_hidden_state = outputs.pooler_output\n",
        "        return self.regressor(last_hidden_state)"
      ],
      "metadata": {
        "trusted": true,
        "execution": {
          "iopub.status.busy": "2024-12-06T06:21:18.351996Z",
          "iopub.execute_input": "2024-12-06T06:21:18.352355Z",
          "iopub.status.idle": "2024-12-06T06:21:18.357724Z",
          "shell.execute_reply.started": "2024-12-06T06:21:18.352322Z",
          "shell.execute_reply": "2024-12-06T06:21:18.356762Z"
        },
        "id": "4z6HgLrE_Koj"
      },
      "outputs": [],
      "execution_count": 21
    },
    {
      "cell_type": "markdown",
      "source": [
        "## Training function"
      ],
      "metadata": {
        "id": "DlKjWDSC_Koj"
      }
    },
    {
      "cell_type": "code",
      "source": [
        "def train_model(model, train_loader, val_loader, epochs, learning_rate,criterion, save_path, device):\n",
        "    optimizer = AdamW(model.parameters(), lr=learning_rate)\n",
        "\n",
        "    best_val_loss = float('inf')\n",
        "\n",
        "    for epoch in range(epochs):\n",
        "        model.train()\n",
        "        total_loss = 0\n",
        "        for batch in tqdm(train_loader, desc=f\"Training Epoch {epoch+1}\"):\n",
        "            optimizer.zero_grad()\n",
        "            input_ids = batch[\"input_ids\"].to(device)\n",
        "            attention_mask = batch[\"attention_mask\"].to(device)\n",
        "            labels = batch[\"labels\"].to(device)\n",
        "            outputs = model(input_ids=input_ids, attention_mask=attention_mask).squeeze(-1)\n",
        "            loss = criterion(outputs, labels)\n",
        "            loss.backward()\n",
        "            optimizer.step()\n",
        "            total_loss += loss.item()\n",
        "\n",
        "        avg_train_loss = total_loss / len(train_loader)\n",
        "        avg_val_loss = evaluate_model(model, val_loader, criterion, device)\n",
        "\n",
        "        if avg_val_loss < best_val_loss:\n",
        "            best_val_loss = avg_val_loss\n",
        "            print(f\"Validation loss improved to {best_val_loss:.6f}. Saving model...\")\n",
        "            torch.save(model.state_dict(), save_path)  # Save the model state_dict\n",
        "\n",
        "        print(f\"Epoch {epoch+1} | Train Loss: {avg_train_loss:.6f} | Val Loss: {avg_val_loss:.6f}\")"
      ],
      "metadata": {
        "trusted": true,
        "execution": {
          "iopub.status.busy": "2024-12-06T06:22:03.692984Z",
          "iopub.execute_input": "2024-12-06T06:22:03.693320Z",
          "iopub.status.idle": "2024-12-06T06:22:03.700543Z",
          "shell.execute_reply.started": "2024-12-06T06:22:03.693289Z",
          "shell.execute_reply": "2024-12-06T06:22:03.699661Z"
        },
        "id": "_PRDqXqI_Kok"
      },
      "outputs": [],
      "execution_count": 22
    },
    {
      "cell_type": "markdown",
      "source": [
        "## Evaluate on validation"
      ],
      "metadata": {
        "id": "DxtgijxB_Kol"
      }
    },
    {
      "cell_type": "code",
      "source": [
        "def evaluate_model(model, data_loader, criterion, device):\n",
        "    model.eval()\n",
        "    total_loss = 0\n",
        "    with torch.no_grad():\n",
        "        for batch in data_loader:\n",
        "            input_ids = batch[\"input_ids\"].to(device)\n",
        "            attention_mask = batch[\"attention_mask\"].to(device)\n",
        "            labels = batch[\"labels\"].to(device)\n",
        "\n",
        "            outputs = model(input_ids=input_ids, attention_mask=attention_mask).squeeze(-1)\n",
        "            outputs_exp = torch.expm1(outputs)\n",
        "            labels_exp = torch.expm1(labels)\n",
        "\n",
        "            loss = criterion(outputs, labels)\n",
        "            total_loss += loss.item()\n",
        "    return total_loss / len(data_loader)"
      ],
      "metadata": {
        "trusted": true,
        "execution": {
          "iopub.status.busy": "2024-12-06T06:22:06.542252Z",
          "iopub.execute_input": "2024-12-06T06:22:06.542818Z",
          "iopub.status.idle": "2024-12-06T06:22:06.548153Z",
          "shell.execute_reply.started": "2024-12-06T06:22:06.542784Z",
          "shell.execute_reply": "2024-12-06T06:22:06.547263Z"
        },
        "id": "rDDd6ZgW_Kol"
      },
      "outputs": [],
      "execution_count": 23
    },
    {
      "cell_type": "markdown",
      "source": [
        "## Test on test"
      ],
      "metadata": {
        "id": "Rq6JJyR1_Kom"
      }
    },
    {
      "cell_type": "code",
      "source": [
        "def test_model(model, test_loader, device):\n",
        "    model.eval()\n",
        "    predictions, actuals = [], []\n",
        "    with torch.no_grad():\n",
        "        for batch in test_loader:\n",
        "            input_ids = batch[\"input_ids\"].to(device)\n",
        "            attention_mask = batch[\"attention_mask\"].to(device)\n",
        "            labels = batch[\"labels\"].to(device)\n",
        "            outputs = model(input_ids=input_ids, attention_mask=attention_mask).squeeze(-1)\n",
        "            predictions.extend(outputs.cpu().numpy())\n",
        "            actuals.extend(labels.cpu().numpy())\n",
        "\n",
        "    predictions = np.expm1(predictions)\n",
        "    actuals = np.expm1(actuals)\n",
        "\n",
        "    rmse = sqrt(mean_squared_error(actuals, predictions))\n",
        "    print(f\"Test RMSE: {rmse:.6f}\")\n",
        "\n",
        "    return predictions, actuals"
      ],
      "metadata": {
        "trusted": true,
        "execution": {
          "iopub.status.busy": "2024-12-06T06:22:16.770937Z",
          "iopub.execute_input": "2024-12-06T06:22:16.771272Z",
          "iopub.status.idle": "2024-12-06T06:22:16.777411Z",
          "shell.execute_reply.started": "2024-12-06T06:22:16.771241Z",
          "shell.execute_reply": "2024-12-06T06:22:16.776415Z"
        },
        "id": "pPaqRjRc_Kom"
      },
      "outputs": [],
      "execution_count": 24
    },
    {
      "cell_type": "markdown",
      "source": [
        "## Main function"
      ],
      "metadata": {
        "id": "xMO88o60_Kon"
      }
    },
    {
      "cell_type": "code",
      "source": [
        "def set_seeds(seed: int = 42):\n",
        "    \"\"\"Set seeds for reproducibility.\"\"\"\n",
        "    np.random.seed(seed)\n",
        "    torch.manual_seed(seed)\n",
        "    torch.cuda.manual_seed(seed)\n",
        "    # torch.backends.cudnn.deterministic = True\n",
        "    torch.backends.cudnn.benchmark = False\n",
        "\n",
        "\n",
        "# def main():\n",
        "set_seeds(42)  # Set seeds for reproducibility\n",
        "\n",
        "filepath = '/content/df_f.csv'\n",
        "model_name = 'bert-base-uncased'\n",
        "max_len = 512\n",
        "train_batch_size = 16\n",
        "val_batch_size = 32\n",
        "test_batch_size = 32\n",
        "epochs = 6\n",
        "learning_rate = 0.5e-5\n",
        "criterion = nn.HuberLoss(delta=1.0)\n",
        "device = torch.device(\"cuda\" if torch.cuda.is_available() else \"cpu\")\n",
        "save_path = '/content/bert_final.pth'\n",
        "\n",
        "# Load data\n",
        "data = load_data_clean(filepath)\n",
        "tokenizer = BertTokenizer.from_pretrained(model_name)\n",
        "\n",
        "# Prepare dataloaders\n",
        "train_loader, val_loader, test_loader = prepare_dataloaders(data, tokenizer, max_len,\n",
        "                                                            train_batch_size, val_batch_size,\n",
        "                                                            test_batch_size, seed=42)\n",
        "\n",
        "# Initialize and train model\n",
        "model = BERTRegression(model_name).to(device)\n",
        "train_model(model, train_loader, val_loader, epochs, learning_rate, criterion, save_path, device)\n",
        "\n",
        "# Evaluate on test dataset\n",
        "# pred,act = test_model(model, test_loader, device)"
      ],
      "metadata": {
        "trusted": true,
        "execution": {
          "iopub.status.busy": "2024-12-06T06:22:19.824951Z",
          "iopub.execute_input": "2024-12-06T06:22:19.825283Z",
          "iopub.status.idle": "2024-12-06T07:45:16.632638Z",
          "shell.execute_reply.started": "2024-12-06T06:22:19.825253Z",
          "shell.execute_reply": "2024-12-06T07:45:16.631827Z"
        },
        "colab": {
          "base_uri": "https://localhost:8080/",
          "height": 269,
          "referenced_widgets": [
            "8fa4115a50d84b4290d2c7a4bb247a35",
            "2a331e544c4f4f10905231d0f4995c63",
            "6968ff0a23a14e2081149776a064a4bf",
            "c23268b3e42647ec9e004141757ef49b",
            "5028f1c91e5f4eeaa47e68fc657e2c81",
            "e567554f4a414528a4aa22c0be3d1337",
            "55b1d7d1efc24397bbe1288c99b6c92b",
            "fbefda76018f43a88982bb3326c992cd",
            "2a2bd1fdab814ffabbc24b097025672c",
            "2a7d23d48f0e484f957f1bac5d140e70",
            "ff634d7bfe4d4ef285fc9e855f5b0751",
            "dcbe1c1b660847848331327d0c40a6b3",
            "bd024b647d324fa7a37b3135553391da",
            "f5c376ce5a2842218961186734ee471d",
            "623a25dae06547bb9fd652acd5403515",
            "c752d7243cd44412b2a64d02b25c8186",
            "a1cd41987ff747bf8779851baeab074e",
            "510f448a26fc43b7b65b68d4288526d5",
            "a6481b6e247041c1b2bdad5270f3efec",
            "f389ddfdcc5b43c0a41377e498bf84ba",
            "fbe4332ee68f4c818d1d406ef58839ff",
            "f11af4dfbc794549a586740a8ac31dae",
            "1205d8dc39c54f83bd6a977c3980e7de",
            "bfc2a3f9108349d59be135b37b982f9a",
            "dcbc3b8a01c745be89bbd67def2ee31e",
            "50047267f80f4b738800c35bbdc2339f",
            "0d6ffaa237374f00bd4e54e8a5e63cf3",
            "aa5c508410ac4d8cb08e3235ef3e45af",
            "70756ad7bbc14ad38831d1e02d6a0da6",
            "24663ef171394e4481ef7b4f3a9fa9fb",
            "ab737ca494b84e45a105bdc636c38b5a",
            "cf6e9f7e80a14accb61aab6ae4411f71",
            "d039e53eef844ee29f070f3f07afe7ea",
            "e9e7eb68edd3415ca9e002b08290ff64",
            "24c3f3af120f4449856fa57ad551d797",
            "1c58f0a860af4e82ab902c153d1afcff",
            "5d5e92503a534b4f9afe917c52de18c2",
            "ea914918fa914cd9aafe2247e5997ffb",
            "afd198bc57064b7fbdffaeec866909d6",
            "d1921bcef8a94be7bad218eefc67b757",
            "6e0b2431e34c4fd78805f8fae5a48ec5",
            "662eee718f55441c8b2fc6de9afff906",
            "a6fc8877ca2e4e69aff2884b515142f7",
            "3c8e499526374a5398b19c3085cc8385"
          ]
        },
        "id": "oHOMd5m8_Kon",
        "outputId": "b439d46e-20bb-42c1-86e0-a01a784819c5"
      },
      "outputs": [
        {
          "output_type": "stream",
          "name": "stderr",
          "text": [
            "/usr/local/lib/python3.10/dist-packages/huggingface_hub/utils/_auth.py:94: UserWarning: \n",
            "The secret `HF_TOKEN` does not exist in your Colab secrets.\n",
            "To authenticate with the Hugging Face Hub, create a token in your settings tab (https://huggingface.co/settings/tokens), set it as secret in your Google Colab and restart your session.\n",
            "You will be able to reuse this secret in all of your notebooks.\n",
            "Please note that authentication is recommended but still optional to access public models or datasets.\n",
            "  warnings.warn(\n"
          ]
        },
        {
          "output_type": "display_data",
          "data": {
            "text/plain": [
              "tokenizer_config.json:   0%|          | 0.00/48.0 [00:00<?, ?B/s]"
            ],
            "application/vnd.jupyter.widget-view+json": {
              "version_major": 2,
              "version_minor": 0,
              "model_id": "8fa4115a50d84b4290d2c7a4bb247a35"
            }
          },
          "metadata": {}
        },
        {
          "output_type": "display_data",
          "data": {
            "text/plain": [
              "vocab.txt:   0%|          | 0.00/232k [00:00<?, ?B/s]"
            ],
            "application/vnd.jupyter.widget-view+json": {
              "version_major": 2,
              "version_minor": 0,
              "model_id": "dcbe1c1b660847848331327d0c40a6b3"
            }
          },
          "metadata": {}
        },
        {
          "output_type": "display_data",
          "data": {
            "text/plain": [
              "tokenizer.json:   0%|          | 0.00/466k [00:00<?, ?B/s]"
            ],
            "application/vnd.jupyter.widget-view+json": {
              "version_major": 2,
              "version_minor": 0,
              "model_id": "1205d8dc39c54f83bd6a977c3980e7de"
            }
          },
          "metadata": {}
        },
        {
          "output_type": "display_data",
          "data": {
            "text/plain": [
              "config.json:   0%|          | 0.00/570 [00:00<?, ?B/s]"
            ],
            "application/vnd.jupyter.widget-view+json": {
              "version_major": 2,
              "version_minor": 0,
              "model_id": "e9e7eb68edd3415ca9e002b08290ff64"
            }
          },
          "metadata": {}
        }
      ],
      "execution_count": 25
    },
    {
      "cell_type": "markdown",
      "source": [
        "## Loading model for prediction on test"
      ],
      "metadata": {
        "id": "nK_3yCC8Nmwo"
      }
    },
    {
      "cell_type": "code",
      "source": [
        "def load_model(model_class, model_name, save_path, device):\n",
        "    # Recreate the model\n",
        "    model = model_class(model_name)\n",
        "    # Load the saved state dict into the model, mapping the model to the correct device\n",
        "    model.load_state_dict(torch.load(save_path, map_location=device))\n",
        "    # Explicitly move the model to the desired device\n",
        "    model.to(device)  # Add this line\n",
        "    model.eval()  # Set model to evaluation mode\n",
        "    return model\n",
        "\n",
        "# Load the saved model for inference\n",
        "loaded_model = load_model(BERTRegression, \"bert-base-uncased\", \"/content/bert_final.pth\", device)\n"
      ],
      "metadata": {
        "trusted": true,
        "execution": {
          "iopub.status.busy": "2024-12-06T07:52:17.861998Z",
          "iopub.execute_input": "2024-12-06T07:52:17.862370Z",
          "iopub.status.idle": "2024-12-06T07:52:19.189614Z",
          "shell.execute_reply.started": "2024-12-06T07:52:17.862339Z",
          "shell.execute_reply": "2024-12-06T07:52:19.188882Z"
        },
        "colab": {
          "base_uri": "https://localhost:8080/",
          "height": 104,
          "referenced_widgets": [
            "859f278488274ef0bfd9c6c573b117bc",
            "d87c5d789cf64c2b8781518553cae8ab",
            "9ca3a171b9b54fc5bf90c15f6da2f2cc",
            "c48644f630e44c9db995e207697a9379",
            "4dbab58bacea4abe909538315b3284c5",
            "39247c80e7e345e7a1e6b1b32be17eef",
            "a17dec347e0a48dd93d78cc37dc7021a",
            "0956aff8e3cb41eaa6dda5cc5a9bcb2f",
            "332e40cc96d740178dde5283a1044563",
            "0fb42b7ccd43445f956b6388d2f660f0",
            "afc108a2f89044f2b09766e7a8805319"
          ]
        },
        "id": "8iGgsjYT_Koo",
        "outputId": "68e0272d-eaed-4407-bd70-f9149dfdcf4e"
      },
      "outputs": [
        {
          "output_type": "display_data",
          "data": {
            "text/plain": [
              "model.safetensors:   0%|          | 0.00/440M [00:00<?, ?B/s]"
            ],
            "application/vnd.jupyter.widget-view+json": {
              "version_major": 2,
              "version_minor": 0,
              "model_id": "859f278488274ef0bfd9c6c573b117bc"
            }
          },
          "metadata": {}
        },
        {
          "output_type": "stream",
          "name": "stderr",
          "text": [
            "<ipython-input-26-1c521e05f908>:5: FutureWarning: You are using `torch.load` with `weights_only=False` (the current default value), which uses the default pickle module implicitly. It is possible to construct malicious pickle data which will execute arbitrary code during unpickling (See https://github.com/pytorch/pytorch/blob/main/SECURITY.md#untrusted-models for more details). In a future release, the default value for `weights_only` will be flipped to `True`. This limits the functions that could be executed during unpickling. Arbitrary objects will no longer be allowed to be loaded via this mode unless they are explicitly allowlisted by the user via `torch.serialization.add_safe_globals`. We recommend you start setting `weights_only=True` for any use case where you don't have full control of the loaded file. Please open an issue on GitHub for any issues related to this experimental feature.\n",
            "  model.load_state_dict(torch.load(save_path, map_location=device))\n"
          ]
        }
      ],
      "execution_count": 26
    },
    {
      "cell_type": "markdown",
      "source": [
        "## Prediction on test"
      ],
      "metadata": {
        "id": "NuATPhMHNwKf"
      }
    },
    {
      "cell_type": "code",
      "source": [
        "# latest\n",
        "pred1, act1 = test_model(loaded_model, test_loader, device)"
      ],
      "metadata": {
        "trusted": true,
        "execution": {
          "iopub.status.busy": "2024-12-06T07:53:25.028065Z",
          "iopub.execute_input": "2024-12-06T07:53:25.028383Z",
          "iopub.status.idle": "2024-12-06T07:54:25.208089Z",
          "shell.execute_reply.started": "2024-12-06T07:53:25.028356Z",
          "shell.execute_reply": "2024-12-06T07:54:25.207212Z"
        },
        "colab": {
          "base_uri": "https://localhost:8080/"
        },
        "id": "yCzVQONo_Kop",
        "outputId": "bfa7cf65-d4cc-4add-f32c-947652fc91ad"
      },
      "outputs": [
        {
          "output_type": "stream",
          "name": "stderr",
          "text": [
            "<ipython-input-19-6d815abda472>:8: UserWarning: To copy construct from a tensor, it is recommended to use sourceTensor.clone().detach() or sourceTensor.clone().detach().requires_grad_(True), rather than torch.tensor(sourceTensor).\n",
            "  item = {key: torch.tensor(val[idx]) for key, val in self.encodings.items()}\n",
            "<ipython-input-19-6d815abda472>:9: UserWarning: To copy construct from a tensor, it is recommended to use sourceTensor.clone().detach() or sourceTensor.clone().detach().requires_grad_(True), rather than torch.tensor(sourceTensor).\n",
            "  item['labels'] = torch.tensor(self.labels[idx], dtype=torch.float32)\n"
          ]
        },
        {
          "output_type": "stream",
          "name": "stdout",
          "text": [
            "Test RMSE: 28541.888935\n"
          ]
        }
      ],
      "execution_count": 27
    },
    {
      "cell_type": "markdown",
      "source": [
        "## R2 score"
      ],
      "metadata": {
        "id": "Pg1yXxWlbvyX"
      }
    },
    {
      "cell_type": "code",
      "source": [
        "# R2 score\n",
        "from sklearn.metrics import r2_score\n",
        "r2_score(act1, pred1)"
      ],
      "metadata": {
        "colab": {
          "base_uri": "https://localhost:8080/"
        },
        "id": "v_j2TW5eWuUh",
        "outputId": "758795ff-8d0a-4cae-c56d-48f5f89e24d6"
      },
      "execution_count": 28,
      "outputs": [
        {
          "output_type": "execute_result",
          "data": {
            "text/plain": [
              "0.6040883660316467"
            ]
          },
          "metadata": {},
          "execution_count": 28
        }
      ]
    },
    {
      "cell_type": "markdown",
      "source": [
        "## Plotting the predictions vs actuals"
      ],
      "metadata": {
        "id": "7dDQoQhkOBNv"
      }
    },
    {
      "cell_type": "code",
      "source": [
        "# latest\n",
        "from matplotlib import pyplot as plt\n",
        "\n",
        "results = pd.DataFrame({\n",
        "    \"Actual\": act1,\n",
        "    \"Prediction\": pred1\n",
        "})\n",
        "coef = np.polyfit(results['Actual'],results['Prediction'], deg=1)\n",
        "poly1d_fn = np.poly1d(coef)\n",
        "\n",
        "\n",
        "plt.scatter(results['Actual'],results['Prediction'])\n",
        "plt.plot(results['Actual'], poly1d_fn(results['Actual']),color='black')\n",
        "plt.axis('equal')\n",
        "plt.xlabel('Actual')\n",
        "plt.ylabel('Prediction')\n",
        "plt.title('Actual vs. Prediction')\n",
        "plt.show()"
      ],
      "metadata": {
        "trusted": true,
        "execution": {
          "iopub.status.busy": "2024-12-06T08:08:25.329747Z",
          "iopub.execute_input": "2024-12-06T08:08:25.330680Z",
          "iopub.status.idle": "2024-12-06T08:08:25.540015Z",
          "shell.execute_reply.started": "2024-12-06T08:08:25.330644Z",
          "shell.execute_reply": "2024-12-06T08:08:25.539204Z"
        },
        "colab": {
          "base_uri": "https://localhost:8080/",
          "height": 472
        },
        "id": "GJlbLM9p_Kor",
        "outputId": "9a08f101-6cc7-431b-a350-7d06400932f5"
      },
      "outputs": [
        {
          "output_type": "display_data",
          "data": {
            "text/plain": [
              "<Figure size 640x480 with 1 Axes>"
            ],
            "image/png": "[encoded data removed]"
          },
          "metadata": {}
        }
      ],
      "execution_count": null
    },
    {
      "cell_type": "code",
      "source": [
        "import matplotlib.pyplot as plt\n",
        "\n",
        "results['diff'] = results['Prediction'] - results['Actual']\n",
        "results['abs_diff'] = abs(results['Prediction'] - results['Actual'])\n",
        "\n",
        "# Plot the histogram\n",
        "ax = results['abs_diff'].plot(kind='hist', bins=30)  # Adjust 'bins' as needed\n",
        "\n",
        "# Set custom x-axis ticks\n",
        "ticks = range(0, int(results['abs_diff'].max()) + 10, 10000)  # Adjust step as needed\n",
        "plt.xticks(ticks)\n",
        "plt.xticks(rotation=90)\n",
        "plt.xlabel('Absolute Difference')\n",
        "plt.ylabel('Frequency')\n",
        "plt.title('Histogram of Absolute Differences')\n",
        "\n",
        "plt.show()"
      ],
      "metadata": {
        "trusted": true,
        "execution": {
          "iopub.status.busy": "2024-12-06T08:18:15.652248Z",
          "iopub.execute_input": "2024-12-06T08:18:15.652683Z",
          "iopub.status.idle": "2024-12-06T08:18:15.949532Z",
          "shell.execute_reply.started": "2024-12-06T08:18:15.652651Z",
          "shell.execute_reply": "2024-12-06T08:18:15.948847Z"
        },
        "colab": {
          "base_uri": "https://localhost:8080/",
          "height": 510
        },
        "id": "o2jaCPGf_Kor",
        "outputId": "2e9311e2-117c-4ea1-ea49-0615970f83d5"
      },
      "outputs": [
        {
          "output_type": "display_data",
          "data": {
            "text/plain": [
              "<Figure size 640x480 with 1 Axes>"
            ],
            "image/png": "[encoded data removed]"
          },
          "metadata": {}
        }
      ],
      "execution_count": null
    },
    {
      "cell_type": "markdown",
      "source": [
        "## Correlation between actuals and predictions"
      ],
      "metadata": {
        "id": "dTqJmFehPVkl"
      }
    },
    {
      "cell_type": "code",
      "source": [
        "results['Actual'].corr(results['Prediction'])"
      ],
      "metadata": {
        "trusted": true,
        "execution": {
          "iopub.status.busy": "2024-12-06T07:56:57.942902Z",
          "iopub.execute_input": "2024-12-06T07:56:57.943240Z",
          "iopub.status.idle": "2024-12-06T07:56:57.950080Z",
          "shell.execute_reply.started": "2024-12-06T07:56:57.943211Z",
          "shell.execute_reply": "2024-12-06T07:56:57.949360Z"
        },
        "colab": {
          "base_uri": "https://localhost:8080/"
        },
        "id": "AxKT0BuR_Ko2",
        "outputId": "ae504975-fe0c-4073-8074-318ce3336687"
      },
      "outputs": [
        {
          "output_type": "execute_result",
          "data": {
            "text/plain": [
              "0.7805915841917697"
            ]
          },
          "metadata": {},
          "execution_count": 42
        }
      ],
      "execution_count": null
    },
    {
      "cell_type": "markdown",
      "source": [
        "## Some more analysis"
      ],
      "metadata": {
        "id": "C5ZffcdmRArA"
      }
    },
    {
      "cell_type": "code",
      "source": [
        "results[results['abs_diff']<15000]['abs_diff'].shape[0]/results.shape[0]"
      ],
      "metadata": {
        "colab": {
          "base_uri": "https://localhost:8080/"
        },
        "id": "iqLgyEldTWWr",
        "outputId": "26589f35-a8e7-4aad-f215-0fedb4d0d89d"
      },
      "execution_count": null,
      "outputs": [
        {
          "output_type": "execute_result",
          "data": {
            "text/plain": [
              "0.49460985626283366"
            ]
          },
          "metadata": {},
          "execution_count": 57
        }
      ]
    },
    {
      "cell_type": "markdown",
      "source": [
        "49.46% of actual salaries are having predictions + or - 15,000 deviations"
      ],
      "metadata": {
        "id": "zTcreXAfToZL"
      }
    },
    {
      "cell_type": "markdown",
      "source": [],
      "metadata": {
        "id": "YCgnRKsaTUSX"
      }
    },
    {
      "cell_type": "code",
      "source": [
        "results[results['abs_diff']<20000]['abs_diff'].shape[0]/results.shape[0]"
      ],
      "metadata": {
        "trusted": true,
        "colab": {
          "base_uri": "https://localhost:8080/"
        },
        "id": "Yx17bbgi_Ko3",
        "outputId": "8f4fbfd3-6181-41db-b49a-1992cdf549d5"
      },
      "outputs": [
        {
          "output_type": "execute_result",
          "data": {
            "text/plain": [
              "0.6078028747433265"
            ]
          },
          "metadata": {},
          "execution_count": 53
        }
      ],
      "execution_count": null
    },
    {
      "cell_type": "markdown",
      "source": [
        "60% of actual salaries are having predictions + or - 20,000 deviations"
      ],
      "metadata": {
        "id": "iDdJiyW4SuBU"
      }
    },
    {
      "cell_type": "code",
      "source": [
        "results['percentage_var'] = results['abs_diff']/results['Actual']*100\n",
        "\n",
        "results['percentage_var'].plot(kind='hist', bins=10)"
      ],
      "metadata": {
        "colab": {
          "base_uri": "https://localhost:8080/",
          "height": 447
        },
        "id": "kuOikqPpUNtK",
        "outputId": "7b6c200f-49f6-4c78-89bb-5c306827f242"
      },
      "execution_count": null,
      "outputs": [
        {
          "output_type": "execute_result",
          "data": {
            "text/plain": [
              "<Axes: ylabel='Frequency'>"
            ]
          },
          "metadata": {},
          "execution_count": 62
        },
        {
          "output_type": "display_data",
          "data": {
            "text/plain": [
              "<Figure size 640x480 with 1 Axes>"
            ],
            "image/png": "[encoded data removed]"
          },
          "metadata": {}
        }
      ]
    },
    {
      "cell_type": "code",
      "source": [
        "results[results['percentage_var']<30]['percentage_var'].shape[0]/results.shape[0]"
      ],
      "metadata": {
        "colab": {
          "base_uri": "https://localhost:8080/"
        },
        "id": "GxFCjyQuVOHX",
        "outputId": "cadc5ace-0a25-4c3d-9639-105f173ecbc0"
      },
      "execution_count": null,
      "outputs": [
        {
          "output_type": "execute_result",
          "data": {
            "text/plain": [
              "0.7867043121149897"
            ]
          },
          "metadata": {},
          "execution_count": 66
        }
      ]
    },
    {
      "cell_type": "markdown",
      "source": [
        "78% of test actuals having predicted + or - 30 percentage deviated"
      ],
      "metadata": {
        "id": "pH44W4KTWEwb"
      }
    }
  ]
}